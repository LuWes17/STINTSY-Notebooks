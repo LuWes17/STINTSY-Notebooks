{
  "cells": [
    {
      "cell_type": "markdown",
      "metadata": {
        "id": "4NP2JRfbsiWk"
      },
      "source": [
        "# Linear Regression Exercise\n",
        "\n",
        "This exercise will guide you in implementing the Linear Regression Model to gain intuitions and develop a deeper understanding of the model. These concepts will form as the foundation for more complex models later on.\n",
        "\n",
        "**You will learn to:**\n",
        "- Build the general architecture of a Linear Regression Model.\n",
        "    - Implement the analytical solution for the parameters that minimizes the loss function\n",
        "    - Implement the approximate/iterative solution for finding the parameters that minimizes the loss function\n",
        "        - Initializing parameters\n",
        "        - Calculating the cost/loss/objective Function\n",
        "        - Computing for the gradients of the loss function with respect to the parameters\n",
        "        - Implement gradient descent to update the paramters\n",
        "    - Implement linear regression using sci-kit learn"
      ]
    },
    {
      "cell_type": "markdown",
      "metadata": {
        "id": "dYpIq4c7siWm"
      },
      "source": [
        "## Instructions for All Labs\n",
        "* Read each cell and implement the TODOs sequentially. The markdown/text cells also contain instructions which you need to follow to get the whole notebook working.\n",
        "* Do not change the variable names unless the instructor allows you to.\n",
        "* Some markdown cells contain questions.\n",
        "  * For questions <span style=\"color:red;\">colored in red</span>, you must submit your answers in the corresponding Assignment in the course page. Make sure that you enter your responses in the item with the matching question code. Answers that do not follow the prescribed format will automatically be marked wrong by the checker.\n",
        "  * For questions <span style=\"color:green;\">colored in green</span>, you don't have to submit your answers, but you must think about these questions as they will help enrich your understanding of the concepts covered in the labs.\n",
        "* You are expected to search how to some functions work on the Internet or via the docs.\n",
        "* You may add new cells for \"scrap work\".\n",
        "* The notebooks will undergo a \"Restart and Run All\" command, so make sure that your code is working properly.\n",
        "* You may not reproduce this notebook or share them to anyone."
      ]
    },
    {
      "cell_type": "markdown",
      "metadata": {
        "id": "OKdWhBDasiWn"
      },
      "source": [
        "## Import\n",
        "Import **matplotlib**, **numpy**, **csv**, and **math**."
      ]
    },
    {
      "cell_type": "code",
      "execution_count": 1,
      "metadata": {
        "id": "r8GtvpmpsiWn"
      },
      "outputs": [],
      "source": [
        "import matplotlib.pyplot as plt\n",
        "%matplotlib inline\n",
        "import numpy as np\n",
        "import csv\n",
        "import math\n",
        "\n",
        "# set default size of plots\n",
        "plt.rcParams['figure.figsize'] = (6.0, 6.0)\n",
        "plt.rcParams['image.interpolation'] = 'nearest'\n",
        "\n",
        "%load_ext autoreload\n",
        "%autoreload 2"
      ]
    },
    {
      "cell_type": "markdown",
      "metadata": {
        "id": "Jk26-6tHsiWo"
      },
      "source": [
        "## Synthetic Datasets\n",
        "Before we use a more complicated dataset, we will first demonstrate linear regression using a synthetic (artificial) data drawn from a normal distribution. The synthetic dataset is composed of an input feature `X` and a target variable `y` for easy visualization in a plot. The dataset contains 20 data points."
      ]
    },
    {
      "cell_type": "code",
      "execution_count": 2,
      "metadata": {
        "colab": {
          "base_uri": "https://localhost:8080/"
        },
        "id": "tpoGhG3qsiWp",
        "outputId": "f861d62c-9897-49ba-88bb-1f4e61519046"
      },
      "outputs": [
        {
          "output_type": "execute_result",
          "data": {
            "text/plain": [
              "array([[  0., 100.],\n",
              "       [  1., 101.],\n",
              "       [  2., 102.],\n",
              "       [  3., 103.],\n",
              "       [  4., 104.],\n",
              "       [  5., 105.],\n",
              "       [  6., 106.],\n",
              "       [  7., 107.],\n",
              "       [  8., 108.],\n",
              "       [  9., 109.],\n",
              "       [ 10., 110.],\n",
              "       [ 11., 111.],\n",
              "       [ 12., 112.],\n",
              "       [ 13., 113.],\n",
              "       [ 14., 114.],\n",
              "       [ 15., 115.],\n",
              "       [ 16., 116.],\n",
              "       [ 17., 117.],\n",
              "       [ 18., 118.],\n",
              "       [ 19., 119.]])"
            ]
          },
          "metadata": {},
          "execution_count": 2
        }
      ],
      "source": [
        "np.random.seed(1)\n",
        "\n",
        "X = np.arange(start=0, stop=20, step=1)\n",
        "delta = np.random.normal(loc=100, scale=0, size=20)\n",
        "y = X + delta\n",
        "\n",
        "data = np.column_stack([X, y])\n",
        "data"
      ]
    },
    {
      "cell_type": "markdown",
      "metadata": {
        "id": "woCne8qYsiWp"
      },
      "source": [
        "Let's visualize the synthetic dataset in a 2D graph."
      ]
    },
    {
      "cell_type": "code",
      "execution_count": 3,
      "metadata": {
        "colab": {
          "base_uri": "https://localhost:8080/",
          "height": 522
        },
        "id": "fLGo-MRksiWp",
        "outputId": "0422b166-40f0-44f2-f08e-e8f8350dd5f4"
      },
      "outputs": [
        {
          "output_type": "display_data",
          "data": {
            "text/plain": [
              "<Figure size 600x600 with 1 Axes>"
            ],
            "image/png": "[encoded data removed]"
          },
          "metadata": {}
        }
      ],
      "source": [
        "fig, ax = plt.subplots()\n",
        "ax.plot(X, y, 'ro', label='Original data')\n",
        "ax.legend()\n",
        "plt.grid()\n",
        "plt.show()"
      ]
    },
    {
      "cell_type": "markdown",
      "metadata": {
        "id": "SVsLOMQxsiWp"
      },
      "source": [
        "<span style=\"color:red;\">**Question 2-1**: Describe the plot of the generated data. How is `X` related to `y`?</span>"
      ]
    },
    {
      "cell_type": "markdown",
      "metadata": {
        "id": "LRvHJ6BOsiWp"
      },
      "source": [
        "## Linear Regression on Synthetic Dataset 1 using Analytical Solution\n",
        "Open `linear_regression.py` file. Some of the functions in the `AnalyticalMethod` class are not yet implemented. We will implement the missing parts of this class."
      ]
    },
    {
      "cell_type": "markdown",
      "metadata": {
        "id": "6q9bLJMdsiWq"
      },
      "source": [
        "Import the `AnalyticalMethod` class and the `compute_RMSE()` function."
      ]
    },
    {
      "cell_type": "code",
      "execution_count": 4,
      "metadata": {
        "id": "kof0DbR0siWq"
      },
      "outputs": [],
      "source": [
        "from linear_regression import AnalyticalMethod, compute_RMSE"
      ]
    },
    {
      "cell_type": "markdown",
      "metadata": {
        "id": "h4IXErCpsiWq"
      },
      "source": [
        "Instantiate an `AnalyticalMethod` object. Assign the object to variable `analytical_method`."
      ]
    },
    {
      "cell_type": "code",
      "execution_count": 5,
      "metadata": {
        "id": "ftzlnpb3siWq"
      },
      "outputs": [],
      "source": [
        "# Write your code here\n",
        "analytical_method = AnalyticalMethod()"
      ]
    },
    {
      "cell_type": "markdown",
      "metadata": {
        "id": "m8c0MWZlsiWq"
      },
      "source": [
        "### Analytical Solution / Closed Form / Normal Equation\n",
        "\n",
        "We can quickly compute for the weights by getting the derivative of our objective function and equating it to 0. However, there are some drawbacks to this method, as you would see in the following cells.\n",
        "\n",
        "The next cells show the step-by-step process of implementing the closed form solution of linear regression:\n",
        "1. Adding the bias in the weight vector `W`.\n",
        "1. Finding for the optimal values of weight vector `W` by using the closed form solution.\n",
        "3. Do some predictions! Now that we have the weights, the label can be solved by plugging in the features `X` into the linear model."
      ]
    },
    {
      "cell_type": "markdown",
      "metadata": {
        "id": "s3RW55hXsiWr"
      },
      "source": [
        "### Step 1. Pre-processing.  Add in a vector of one to X to account for the bias.\n",
        "\n",
        "Open `linear_regression.py` file and complete the `feature_transform()` function in the `AnalyticalMethod` class. This function appends a vector of ones to `X` to account for the bias term."
      ]
    },
    {
      "cell_type": "markdown",
      "metadata": {
        "id": "wcP4HpqKsiWr"
      },
      "source": [
        "Implement the `feature_transform()` function  in the `AnalyticalMethod` class. Inline comments should help you in completing the contents of the function."
      ]
    },
    {
      "cell_type": "markdown",
      "metadata": {
        "id": "DsZzvS6hsiWr"
      },
      "source": [
        "Transform `X` by calling the function `feature_transform()` and assign the return value to variable `transformed_X`."
      ]
    },
    {
      "cell_type": "code",
      "execution_count": 17,
      "metadata": {
        "id": "33CzAXLnsiWr"
      },
      "outputs": [],
      "source": [
        "# Write your code here\n",
        "transformed_X = analytical_method.feature_transform(X)"
      ]
    },
    {
      "cell_type": "code",
      "execution_count": 18,
      "metadata": {
        "colab": {
          "base_uri": "https://localhost:8080/"
        },
        "id": "atBgvGXdsiWr",
        "outputId": "d3f02ffa-a590-42ff-d6b4-8b14e0f09487"
      },
      "outputs": [
        {
          "output_type": "stream",
          "name": "stdout",
          "text": [
            "(20, 2)\n"
          ]
        }
      ],
      "source": [
        "print(transformed_X.shape)"
      ]
    },
    {
      "cell_type": "markdown",
      "metadata": {
        "id": "GlB_jj4wsiWr"
      },
      "source": [
        "__Sanity check:__\n",
        "\n",
        "Your result should have a shape of (20, 2)"
      ]
    },
    {
      "cell_type": "markdown",
      "metadata": {
        "id": "PSECKVn8siWr"
      },
      "source": [
        "### Step 2. Train. Compute for the weights via the analytical solution.\n",
        "\n",
        "Open `linear_regression.py` file and complete the `compute_weights()` function in the `AnalyticalMethod` class. This function computes the weights based on the analytical solution without regularization.\n",
        "\n",
        "$$W=(X^TX)^{-1}X^Ty$$\n",
        "\n",
        "This function has 2 parameters - `X` and `y`, where `X` is an `np.ndarray` of shape (N, D) containing the training data and `y` is an `np.ndarray` of shape (N, 1) containing the ground truth values."
      ]
    },
    {
      "cell_type": "markdown",
      "metadata": {
        "id": "xk3VpS6isiWr"
      },
      "source": [
        "Implement the `compute_weights()` function in the `AnalyticalMethod` class. Inline comments should help you in completing the contents of the function."
      ]
    },
    {
      "cell_type": "markdown",
      "metadata": {
        "id": "Fg0RaTyDsiWs"
      },
      "source": [
        "Compute the weights by calling the function `compute_weights()` and assign the return value to variable `W`."
      ]
    },
    {
      "cell_type": "code",
      "execution_count": 19,
      "metadata": {
        "id": "8AY-iSuIsiWs"
      },
      "outputs": [],
      "source": [
        "# Write your code here\n",
        "W = analytical_method.compute_weights(X, y)"
      ]
    },
    {
      "cell_type": "code",
      "execution_count": 20,
      "metadata": {
        "colab": {
          "base_uri": "https://localhost:8080/"
        },
        "id": "CnE7fh08siWs",
        "outputId": "b9c5f8ea-6c4c-40a1-8c52-af500968deb4"
      },
      "outputs": [
        {
          "output_type": "stream",
          "name": "stdout",
          "text": [
            "[100.   1.]\n"
          ]
        }
      ],
      "source": [
        "print(W)"
      ]
    },
    {
      "cell_type": "markdown",
      "metadata": {
        "id": "bUMUZR1qsiWs"
      },
      "source": [
        "### Step 3: Test. Predict test data with the computed weights\n",
        "\n",
        "Open `linear_regression.py` file and complete the `predict()` function in the `AnalyticalMethod` class. This function predicts values for the test data."
      ]
    },
    {
      "cell_type": "markdown",
      "metadata": {
        "id": "TpTGXCLnsiWt"
      },
      "source": [
        "Implement the `predict()` function in the `AnalyticalMethod` class. Inline comments should help you in completing the contents of the function."
      ]
    },
    {
      "cell_type": "markdown",
      "metadata": {
        "id": "jyqwfrolsiWt"
      },
      "source": [
        "Get the predicted `y` values given the synthetic data and assign the return value to variable `y_predicted`."
      ]
    },
    {
      "cell_type": "code",
      "execution_count": 22,
      "metadata": {
        "id": "aGDb8sxMsiWt"
      },
      "outputs": [],
      "source": [
        "# Write your code here\n",
        "y_predicted = analytical_method.predict(X)"
      ]
    },
    {
      "cell_type": "markdown",
      "metadata": {
        "id": "Q6AVLuS4siWt"
      },
      "source": [
        "Let's plot synthetic dataset 1 and the regression line."
      ]
    },
    {
      "cell_type": "code",
      "execution_count": 23,
      "metadata": {
        "colab": {
          "base_uri": "https://localhost:8080/",
          "height": 522
        },
        "id": "P3r97vYisiWt",
        "outputId": "d1d2a849-3514-45ec-de87-035731cc86a6"
      },
      "outputs": [
        {
          "output_type": "display_data",
          "data": {
            "text/plain": [
              "<Figure size 600x600 with 1 Axes>"
            ],
            "image/png": "[encoded data removed]"
          },
          "metadata": {}
        }
      ],
      "source": [
        "fig, ax = plt.subplots()\n",
        "ax.plot(X, y, 'ro', label='Original data')\n",
        "\n",
        "ax.plot(X, y_predicted, label='Regression line')\n",
        "\n",
        "ax.legend()\n",
        "plt.grid()\n",
        "plt.show()"
      ]
    },
    {
      "cell_type": "markdown",
      "metadata": {
        "id": "3On4QgKAsiWu"
      },
      "source": [
        "<span style=\"color:red;\">**Question 2-2**: Describe the regression line with respect to the original data.</span>\n"
      ]
    },
    {
      "cell_type": "markdown",
      "metadata": {
        "id": "Fzt3bF2bsiWu"
      },
      "source": [
        "Compute the predicted `y` value when X is 25 by calling the function `predict()` and assign the return value to variable `y_pred_analytical`."
      ]
    },
    {
      "cell_type": "code",
      "execution_count": 26,
      "metadata": {
        "id": "s4V0FXr2siWu"
      },
      "outputs": [],
      "source": [
        "# Write your code here\n",
        "X_test = np.array([[25]])\n",
        "y_pred_analytical = analytical_method.predict(X_test)"
      ]
    },
    {
      "cell_type": "code",
      "execution_count": 27,
      "metadata": {
        "colab": {
          "base_uri": "https://localhost:8080/"
        },
        "id": "zH6EzJMusiWu",
        "outputId": "247a1c49-a093-4ea8-e24d-8ed46ded8440"
      },
      "outputs": [
        {
          "output_type": "stream",
          "name": "stdout",
          "text": [
            "[125.]\n"
          ]
        }
      ],
      "source": [
        "print(np.around(y_pred_analytical.flatten(), 2))"
      ]
    },
    {
      "cell_type": "markdown",
      "metadata": {
        "id": "oLK3g77csiWu"
      },
      "source": [
        "<span style=\"color:red;\">**Question 2-3**: What is the predicted `y` value when `X` is 25? Limit to 2 decimal places.</span>"
      ]
    },
    {
      "cell_type": "markdown",
      "metadata": {
        "id": "qiBQrZ8ysiWu"
      },
      "source": [
        "Let's compare the ground truth `y` values with the predicted `y` values."
      ]
    },
    {
      "cell_type": "code",
      "execution_count": 28,
      "metadata": {
        "colab": {
          "base_uri": "https://localhost:8080/"
        },
        "id": "dKf1qP7dsiWv",
        "outputId": "e152869a-0adc-450c-c961-662660f432d3"
      },
      "outputs": [
        {
          "output_type": "stream",
          "name": "stdout",
          "text": [
            "\n",
            "Ground truth y values\n",
            " [100. 101. 102. 103. 104. 105. 106. 107. 108. 109. 110. 111. 112. 113.\n",
            " 114. 115. 116. 117. 118. 119.]\n",
            "Predicted y values\n",
            " [100. 101. 102. 103. 104. 105. 106. 107. 108. 109. 110. 111. 112. 113.\n",
            " 114. 115. 116. 117. 118. 119.]\n"
          ]
        }
      ],
      "source": [
        "print('\\nGround truth y values\\n', y)\n",
        "print('Predicted y values\\n', y_predicted)"
      ]
    },
    {
      "cell_type": "markdown",
      "metadata": {
        "id": "h90OXp8-siWz"
      },
      "source": [
        "<span style=\"color:red;\">**Question 2-4**: Describe the ground truth `y` values and the predicted `y` values. What can you say about the difference in their values?</span>"
      ]
    },
    {
      "cell_type": "markdown",
      "metadata": {
        "id": "4RzOFc2BsiW0"
      },
      "source": [
        "### Evaluate using Root Mean Squared Error (RMSE)\n",
        "\n",
        "Is there a objective way of saying if the model is doing well or not?\n",
        "\n",
        "This is called regression metrics, and we're going to try out one now called **root mean squared error** or **RMSE**.\n",
        "\n",
        "$$\n",
        "\\operatorname{RMSE}(\\hat{y}) = \\sqrt{\\operatorname{MSE}(\\hat{y})} = \\sqrt{\\operatorname{M}((\\hat{y}-y)^2)}\n",
        "$$\n",
        "\n",
        "$\\hat{y}$ stands for predicted labels, while $y$ stands for the ground truth label\n",
        "\n",
        "Computing it can be summarized in 4 simple steps:\n",
        "1. Have a test data ready with known labels. Ideally, these data have never been used in training, but we're going to suspend that rule first and try it with our dataset.\n",
        "2. Get the prediction for every test data, and **subtract** this estimate with the ground truth, and **square** the difference.\n",
        "3. Get the **average** of all the squared differences (#2) of every test data.\n",
        "4. Get the **square root** of the value from #3.\n",
        "\n",
        "Open `linear_regression.py` file and complete the `compute_RMSE()` function. This function computes the Root Mean Squared Error (RMSE) given the ground truth values and the predicted values."
      ]
    },
    {
      "cell_type": "markdown",
      "metadata": {
        "id": "m-G7AEvxsiW0"
      },
      "source": [
        "Implement the `compute_RMSE()` function. Inline comments should help you in completing the contents of the function."
      ]
    },
    {
      "cell_type": "markdown",
      "metadata": {
        "id": "4IliHm47siW0"
      },
      "source": [
        "To check our implementation, let's compute the RMSE of the two `np.ndarray` with the same values. This should yield an RMSE of 0.0."
      ]
    },
    {
      "cell_type": "code",
      "execution_count": 31,
      "metadata": {
        "colab": {
          "base_uri": "https://localhost:8080/"
        },
        "id": "tJUJWojfsiW0",
        "outputId": "fbbbb824-0943-4507-e863-8e760e5761a6"
      },
      "outputs": [
        {
          "output_type": "stream",
          "name": "stdout",
          "text": [
            "0.00\n"
          ]
        }
      ],
      "source": [
        "y_sample_true = np.arange(start=0, stop=20, step=1)\n",
        "y_sample_pred = np.arange(start=0, stop=20, step=1)\n",
        "\n",
        "rmse = compute_RMSE(y_sample_true, y_sample_pred)\n",
        "print('{:.2f}'.format(rmse))"
      ]
    },
    {
      "cell_type": "markdown",
      "metadata": {
        "id": "p35asXPDsiW0"
      },
      "source": [
        "Compute the RMSE of our model by calling the function `compute_RMSE()` and assign the return value to variable `rmse`."
      ]
    },
    {
      "cell_type": "code",
      "execution_count": 34,
      "metadata": {
        "id": "1YwU-mhzsiW0"
      },
      "outputs": [],
      "source": [
        "# Write your code here\n",
        "rmse = compute_RMSE(y, y_predicted)"
      ]
    },
    {
      "cell_type": "code",
      "execution_count": 35,
      "metadata": {
        "colab": {
          "base_uri": "https://localhost:8080/"
        },
        "id": "achQhi86siW0",
        "outputId": "a0e5e594-0eaf-4c3b-d41e-bd0372cb2f24"
      },
      "outputs": [
        {
          "output_type": "stream",
          "name": "stdout",
          "text": [
            "0.00\n"
          ]
        }
      ],
      "source": [
        "print('{:.2f}'.format(rmse))"
      ]
    },
    {
      "cell_type": "markdown",
      "metadata": {
        "id": "ctKtR9ZgsiW1"
      },
      "source": [
        "<span style=\"color:red;\">**Question 2-5:** Can we say that our model fits the input data well?</span>"
      ]
    },
    {
      "cell_type": "markdown",
      "metadata": {
        "id": "7Kgzo8YxsiW1"
      },
      "source": [
        "## Linear Regression on Synthetic Dataset 2 using Analytical Solution\n",
        "\n",
        "Let's create another synthetic dataset drawn from a normal distribution. The synthetic dataset is still composed of an input feature `x` and a target variable `y` for easy visualization in a plot. The dataset contains 40 data points."
      ]
    },
    {
      "cell_type": "code",
      "execution_count": 70,
      "metadata": {
        "colab": {
          "base_uri": "https://localhost:8080/"
        },
        "id": "WxN6NNL2siW1",
        "outputId": "0853f91e-30de-48ce-eba6-47cc37221790"
      },
      "outputs": [
        {
          "output_type": "execute_result",
          "data": {
            "text/plain": [
              "array([[  0.        ,  98.74972646],\n",
              "       [  0.5       , 100.33119952],\n",
              "       [  1.        ,  94.59141171],\n",
              "       [  1.5       , 106.42081243],\n",
              "       [  2.        ,  96.61969324],\n",
              "       [  2.5       ,  99.9747579 ],\n",
              "       [  3.        , 104.50864425],\n",
              "       [  3.5       ,  99.76413574],\n",
              "       [  4.        , 100.82614334],\n",
              "       [  4.5       , 101.77297716],\n",
              "       [  5.        , 106.65436213],\n",
              "       [  5.5       , 112.37662404],\n",
              "       [  6.        , 106.12461818],\n",
              "       [  6.5       , 103.14622366],\n",
              "       [  7.        , 108.61717496],\n",
              "       [  7.5       , 105.7115209 ],\n",
              "       [  8.        , 107.94260851],\n",
              "       [  8.5       , 112.02500366],\n",
              "       [  9.        , 106.75638715],\n",
              "       [  9.5       , 109.52707575],\n",
              "       [ 10.        , 107.36567632],\n",
              "       [ 10.5       , 110.03069749],\n",
              "       [ 11.        , 111.76971136],\n",
              "       [ 11.5       , 108.53366285],\n",
              "       [ 12.        , 110.9835341 ],\n",
              "       [ 12.5       , 111.79144791],\n",
              "       [ 13.        , 111.08703496],\n",
              "       [ 13.5       , 109.93716314],\n",
              "       [ 14.        , 109.73634832],\n",
              "       [ 14.5       , 114.03951441],\n",
              "       [ 15.        , 114.19282912],\n",
              "       [ 15.5       , 122.19410037],\n",
              "       [ 16.        , 108.69569727],\n",
              "       [ 16.5       , 116.83817951],\n",
              "       [ 17.        , 118.11133361],\n",
              "       [ 17.5       , 121.57890159],\n",
              "       [ 18.        , 119.50557162],\n",
              "       [ 18.5       , 115.96735889],\n",
              "       [ 19.        , 119.00002928],\n",
              "       [ 19.5       , 121.12705772]])"
            ]
          },
          "metadata": {},
          "execution_count": 70
        }
      ],
      "source": [
        "np.random.seed(2)\n",
        "\n",
        "X2 = np.arange(start=0, stop=20, step=0.5)\n",
        "delta = np.random.normal(loc=100, scale=3, size=40)\n",
        "y2 = X2 + delta\n",
        "\n",
        "data = np.column_stack([X2, y2])\n",
        "data"
      ]
    },
    {
      "cell_type": "markdown",
      "metadata": {
        "id": "LcihiGDIsiW1"
      },
      "source": [
        "Let's visualize the synthetic dataset in a 2D graph."
      ]
    },
    {
      "cell_type": "code",
      "execution_count": 71,
      "metadata": {
        "colab": {
          "base_uri": "https://localhost:8080/",
          "height": 522
        },
        "id": "90jZ-eocsiW1",
        "outputId": "0a49b8f5-3e53-4dfa-8119-7f51860f9000"
      },
      "outputs": [
        {
          "output_type": "display_data",
          "data": {
            "text/plain": [
              "<Figure size 600x600 with 1 Axes>"
            ],
            "image/png": "[encoded data removed]"
          },
          "metadata": {}
        }
      ],
      "source": [
        "fig, ax = plt.subplots()\n",
        "ax.plot(X2, y2, 'ro', label='Original data')\n",
        "ax.legend()\n",
        "plt.grid()\n",
        "plt.show()"
      ]
    },
    {
      "cell_type": "markdown",
      "metadata": {
        "id": "AmJg5KEnsiW1"
      },
      "source": [
        "### Train and Test\n",
        "\n",
        "Get the predicted `y` values given the new synthetic data and assign the return value to variable `y_predicted`."
      ]
    },
    {
      "cell_type": "code",
      "execution_count": 72,
      "metadata": {
        "id": "KaYuwIoNsiW1"
      },
      "outputs": [],
      "source": [
        "# Write your code here\n",
        "X2 = X2.reshape(-1, 1)\n",
        "analytical_method = AnalyticalMethod()\n",
        "W = analytical_method.compute_weights(X2, y2.reshape(-1, 1))\n",
        "y_predicted = analytical_method.predict(X2)"
      ]
    },
    {
      "cell_type": "markdown",
      "metadata": {
        "id": "gXDbfc4CsiW2"
      },
      "source": [
        "Display the result in a 2D graph."
      ]
    },
    {
      "cell_type": "code",
      "execution_count": 73,
      "metadata": {
        "scrolled": false,
        "colab": {
          "base_uri": "https://localhost:8080/",
          "height": 522
        },
        "id": "jRqwv7hPsiW2",
        "outputId": "77efe2d0-63c4-4e9a-eba5-0cf6af1a8c06"
      },
      "outputs": [
        {
          "output_type": "display_data",
          "data": {
            "text/plain": [
              "<Figure size 600x600 with 1 Axes>"
            ],
            "image/png": "[encoded data removed]"
          },
          "metadata": {}
        }
      ],
      "source": [
        "fig, ax = plt.subplots()\n",
        "ax.plot(X2, y2, 'ro', label='Original data')\n",
        "\n",
        "ax.plot(X2, y_predicted, label='Regression line')\n",
        "\n",
        "ax.legend()\n",
        "plt.grid()\n",
        "plt.show()"
      ]
    },
    {
      "cell_type": "markdown",
      "metadata": {
        "id": "eoh4ajcdsiW2"
      },
      "source": [
        "<span style=\"color:green;\">**Question**: Describe the regression line with respect to the original data. Is it in the middle of the data points? Is it away from the data points?</span>"
      ]
    },
    {
      "cell_type": "markdown",
      "metadata": {
        "id": "aCJFK4nTsiW2"
      },
      "source": [
        "Let's compare the ground truth `y` values with the predicted `y` values."
      ]
    },
    {
      "cell_type": "code",
      "execution_count": 74,
      "metadata": {
        "colab": {
          "base_uri": "https://localhost:8080/"
        },
        "id": "kSdYqSQ9siW2",
        "outputId": "2267229f-d4a4-4be0-d06e-40ae6c3187a0"
      },
      "outputs": [
        {
          "output_type": "stream",
          "name": "stdout",
          "text": [
            "\n",
            "Ground truth y values\n",
            " [ 98.74972646 100.33119952  94.59141171 106.42081243  96.61969324\n",
            "  99.9747579  104.50864425  99.76413574 100.82614334 101.77297716\n",
            " 106.65436213 112.37662404 106.12461818 103.14622366 108.61717496\n",
            " 105.7115209  107.94260851 112.02500366 106.75638715 109.52707575\n",
            " 107.36567632 110.03069749 111.76971136 108.53366285 110.9835341\n",
            " 111.79144791 111.08703496 109.93716314 109.73634832 114.03951441\n",
            " 114.19282912 122.19410037 108.69569727 116.83817951 118.11133361\n",
            " 121.57890159 119.50557162 115.96735889 119.00002928 121.12705772]\n",
            "Predicted y values\n",
            " [[ 98.69575936]\n",
            " [ 99.23049856]\n",
            " [ 99.76523776]\n",
            " [100.29997696]\n",
            " [100.83471616]\n",
            " [101.36945536]\n",
            " [101.90419456]\n",
            " [102.43893376]\n",
            " [102.97367296]\n",
            " [103.50841216]\n",
            " [104.04315136]\n",
            " [104.57789056]\n",
            " [105.11262976]\n",
            " [105.64736896]\n",
            " [106.18210816]\n",
            " [106.71684736]\n",
            " [107.25158656]\n",
            " [107.78632576]\n",
            " [108.32106496]\n",
            " [108.85580416]\n",
            " [109.39054336]\n",
            " [109.92528256]\n",
            " [110.46002176]\n",
            " [110.99476096]\n",
            " [111.52950016]\n",
            " [112.06423936]\n",
            " [112.59897856]\n",
            " [113.13371776]\n",
            " [113.66845696]\n",
            " [114.20319616]\n",
            " [114.73793536]\n",
            " [115.27267456]\n",
            " [115.80741376]\n",
            " [116.34215296]\n",
            " [116.87689216]\n",
            " [117.41163136]\n",
            " [117.94637056]\n",
            " [118.48110976]\n",
            " [119.01584896]\n",
            " [119.55058816]]\n"
          ]
        }
      ],
      "source": [
        "print('\\nGround truth y values\\n', y2)\n",
        "print('Predicted y values\\n', y_predicted)"
      ]
    },
    {
      "cell_type": "markdown",
      "metadata": {
        "id": "-8IStXW7siW2"
      },
      "source": [
        "<span style=\"color:red;\">**Question 1-6**: Describe the ground truth `y` values and the predicted `y` values. What can you say about the difference in their values?</span>"
      ]
    },
    {
      "cell_type": "markdown",
      "metadata": {
        "id": "jS5P7y87siW3"
      },
      "source": [
        "### Evaluate using Root Mean Squared Error (RMSE)\n",
        "\n",
        "Compute the RMSE of our model and assign the return value to variable `rmse`."
      ]
    },
    {
      "cell_type": "code",
      "execution_count": 75,
      "metadata": {
        "id": "u26mjZ9fsiW3"
      },
      "outputs": [],
      "source": [
        "# Write your code here\n",
        "rmse = compute_RMSE(y2.reshape(-1, 1), y_predicted)"
      ]
    },
    {
      "cell_type": "code",
      "execution_count": 76,
      "metadata": {
        "colab": {
          "base_uri": "https://localhost:8080/"
        },
        "id": "-9rnBBJCsiW3",
        "outputId": "f481b295-59bf-46d0-e4d4-543a3a161a15"
      },
      "outputs": [
        {
          "output_type": "stream",
          "name": "stdout",
          "text": [
            "3.08\n"
          ]
        }
      ],
      "source": [
        "print('{:.2f}'.format(rmse))"
      ]
    },
    {
      "cell_type": "markdown",
      "metadata": {
        "id": "gma8CILQsiW3"
      },
      "source": [
        "<span style=\"color:red;\">**Question 1-7**: Can we say that our model fits the input data well?</span>"
      ]
    },
    {
      "cell_type": "markdown",
      "metadata": {
        "id": "0KQuicgcsiW3"
      },
      "source": [
        "## Kansas City Dataset\n",
        "We will use the sales prices of houses in Kansas City as our dataset. We will only get one feature / dimension / variable, i.e., living area, to be able to visualize the dataset in a 2D plane."
      ]
    },
    {
      "cell_type": "markdown",
      "metadata": {
        "id": "miKA1gS_siW3"
      },
      "source": [
        "### Data Preprocessing\n",
        "Let's load the data into the notebook. This data has already been processed, which means that the data is already ready to go for training.\n",
        "\n",
        "But in reality, you will need to perform some pre-processing and feature extractions after collecting data. For starters, you have to make sure that there are no erroneous answers (e.g., instead of a number under the column living area, 'big' was entered) or empty fields. You may also want to get the sum, average, or standard deviation of some data.\n",
        "\n",
        "Again, our data here is already clean so we don't have to worry about that :)"
      ]
    },
    {
      "cell_type": "code",
      "execution_count": 77,
      "metadata": {
        "scrolled": true,
        "colab": {
          "base_uri": "https://localhost:8080/"
        },
        "id": "Qd2OeF_YsiW3",
        "outputId": "d0ec1dfc-c59b-41d3-dc31-e81721d2f57e"
      },
      "outputs": [
        {
          "output_type": "stream",
          "name": "stdout",
          "text": [
            "Training data shape: (128, 1)\n",
            "Ground truth values shape: (128,)\n"
          ]
        }
      ],
      "source": [
        "with open('house.csv', 'r') as csv_file:\n",
        "    raw_data = csv.reader(csv_file)\n",
        "    next(csv_file)\n",
        "    X_kansas = np.empty((0, 1), int)\n",
        "    y_kansas = np.empty((0, 1), int)\n",
        "    for row in raw_data:\n",
        "        X_kansas = np.vstack([X_kansas, np.array([int(row[3])])])  # column for living area\n",
        "        y_kansas = np.append(y_kansas, np.array([int(row[7])]))    # column for price\n",
        "\n",
        "y_house = np.expand_dims(y_kansas, 1)\n",
        "\n",
        "print('Training data shape:', X_kansas.shape)\n",
        "print('Ground truth values shape:', y_kansas.shape)"
      ]
    },
    {
      "cell_type": "markdown",
      "metadata": {
        "id": "_IC9ulUMsiW4"
      },
      "source": [
        "Let's visualize the Kansas City dataset in a 2D graph."
      ]
    },
    {
      "cell_type": "code",
      "execution_count": 78,
      "metadata": {
        "colab": {
          "base_uri": "https://localhost:8080/",
          "height": 542
        },
        "id": "P8TpFoxZsiW4",
        "outputId": "e825112e-51b9-4e63-fa11-0f9b4087da32"
      },
      "outputs": [
        {
          "output_type": "display_data",
          "data": {
            "text/plain": [
              "<Figure size 600x600 with 1 Axes>"
            ],
            "image/png": "[encoded data removed]"
          },
          "metadata": {}
        }
      ],
      "source": [
        "fig, ax = plt.subplots()\n",
        "ax.plot(X_kansas, y_kansas, 'ro', label='Original data')\n",
        "\n",
        "plt.ylabel('Price')\n",
        "plt.xlabel('Living area')\n",
        "ax.legend()\n",
        "plt.grid()\n",
        "plt.show()"
      ]
    },
    {
      "cell_type": "markdown",
      "metadata": {
        "id": "HMAmvvSPsiW4"
      },
      "source": [
        "## Linear Regression on the Kansas City Dataset using Analytical Solution\n",
        "\n",
        "Create a linear regression model on the Kansas City dataset using the analytical solution."
      ]
    },
    {
      "cell_type": "markdown",
      "metadata": {
        "id": "UCxQS49FsiW4"
      },
      "source": [
        "### Step 1: Train. Compute for the weights via the analytical solution.\n",
        "\n",
        "\n",
        "Compute the weights using the Kansas City dataset by calling the function `compute_weights()` and assign the return value to variable `W`."
      ]
    },
    {
      "cell_type": "code",
      "execution_count": 79,
      "metadata": {
        "id": "fBJyW9ODsiW4"
      },
      "outputs": [],
      "source": [
        "# Write your code here\n",
        "W = analytical_method.compute_weights(X_kansas, y_kansas)"
      ]
    },
    {
      "cell_type": "markdown",
      "metadata": {
        "id": "BKwED-EtsiW4"
      },
      "source": [
        "Display weights."
      ]
    },
    {
      "cell_type": "code",
      "execution_count": 80,
      "metadata": {
        "colab": {
          "base_uri": "https://localhost:8080/"
        },
        "id": "JyvyMKVSsiW5",
        "outputId": "3f77479f-a94e-47f0-c902-6ac346f16634"
      },
      "outputs": [
        {
          "output_type": "stream",
          "name": "stdout",
          "text": [
            "-10091.13 70.23\n"
          ]
        }
      ],
      "source": [
        "print('{:.2f}'.format(float(W[0])), '{:.2f}'.format(float(W[1])))"
      ]
    },
    {
      "cell_type": "markdown",
      "metadata": {
        "id": "kDV4Xa62siW5"
      },
      "source": [
        "<span style=\"color:red;\">**Question 1-8**: What is the value of the first weight? Limit to 2 decimal places.</span>"
      ]
    },
    {
      "cell_type": "markdown",
      "metadata": {
        "id": "tqgu3WmdsiW5"
      },
      "source": [
        "<span style=\"color:red;\">**Question 1-9**: Why are there are 2 weights if we only have 1 feature? Where did the 2nd one come from?</span>"
      ]
    },
    {
      "cell_type": "markdown",
      "metadata": {
        "id": "a9y1Aa64siW5"
      },
      "source": [
        "### Step 2: Test. Predict test data with the weights computed\n",
        "\n",
        "Get the predicted `y` values given the Kansas City dataset and using the `AnalyticalMethod` and assign the return value to variable `y_predicted`."
      ]
    },
    {
      "cell_type": "code",
      "execution_count": 81,
      "metadata": {
        "id": "NDk3wU_BsiW5"
      },
      "outputs": [],
      "source": [
        "# Write your code here\n",
        "y_predicted = analytical_method.predict(X_kansas)"
      ]
    },
    {
      "cell_type": "markdown",
      "metadata": {
        "id": "KVowye1EsiW5"
      },
      "source": [
        "Display the result in a 2D graph."
      ]
    },
    {
      "cell_type": "code",
      "execution_count": 82,
      "metadata": {
        "scrolled": false,
        "colab": {
          "base_uri": "https://localhost:8080/",
          "height": 542
        },
        "id": "DBX9aRoGsiW6",
        "outputId": "1dc23ea8-ef55-4674-a909-e68867529a9c"
      },
      "outputs": [
        {
          "output_type": "display_data",
          "data": {
            "text/plain": [
              "<Figure size 600x600 with 1 Axes>"
            ],
            "image/png": "[encoded data removed]"
          },
          "metadata": {}
        }
      ],
      "source": [
        "fig, ax1 = plt.subplots()\n",
        "ax1.plot(X_kansas, y_kansas, 'ro', label='Original data')\n",
        "line1, = ax1.plot(X_kansas, y_predicted, label='Regression line')\n",
        "\n",
        "plt.ylabel('Price')\n",
        "plt.xlabel('Living area')\n",
        "ax1.legend()\n",
        "plt.grid()\n",
        "plt.show()"
      ]
    },
    {
      "cell_type": "markdown",
      "metadata": {
        "id": "QH92RvLQsiW6"
      },
      "source": [
        "<span style=\"color:green;\">**Question**: Describe the regression line with respect to the original data. Is it in the middle of the data points? Is it away from the data points?</span>"
      ]
    },
    {
      "cell_type": "markdown",
      "metadata": {
        "id": "QxcMkwDusiW6"
      },
      "source": [
        "### Evaluate using Root Mean Squared Error (RMSE)\n",
        "\n",
        "Compute the RMSE of our model and assign the return value to variable `rmse`."
      ]
    },
    {
      "cell_type": "code",
      "execution_count": 83,
      "metadata": {
        "id": "oqXkPWp3siW6"
      },
      "outputs": [],
      "source": [
        "# Write your code here\n",
        "rmse = compute_RMSE(y_kansas, y_predicted)"
      ]
    },
    {
      "cell_type": "code",
      "execution_count": 84,
      "metadata": {
        "colab": {
          "base_uri": "https://localhost:8080/"
        },
        "id": "T9EL4vDNsiW6",
        "outputId": "acb0fc7d-37b3-44bd-b73e-2ae1f4d238be"
      },
      "outputs": [
        {
          "output_type": "stream",
          "name": "stdout",
          "text": [
            "22299.25\n"
          ]
        }
      ],
      "source": [
        "print('{:.2f}'.format(rmse))"
      ]
    },
    {
      "cell_type": "markdown",
      "metadata": {
        "id": "SD9V7UqpsiW6"
      },
      "source": [
        "<span style=\"color:red;\">**Question 1-10**: What is the RMSE of our model? Limit to 2 decimal places.</span>"
      ]
    },
    {
      "cell_type": "markdown",
      "metadata": {
        "id": "T8PsJOnusiW6"
      },
      "source": [
        "## Linear Regression on the Kansas City Dataset using `np.polyfit`\n",
        "Use `np.polyfit` to get a similar result."
      ]
    },
    {
      "cell_type": "markdown",
      "metadata": {
        "id": "LICaG3D1siW7"
      },
      "source": [
        "Import the `PolyFitMethod` class."
      ]
    },
    {
      "cell_type": "code",
      "execution_count": 86,
      "metadata": {
        "id": "cs7mHUjJsiW7"
      },
      "outputs": [],
      "source": [
        "from linear_regression import PolyFitMethod"
      ]
    },
    {
      "cell_type": "markdown",
      "metadata": {
        "id": "JBtEZs0usiW7"
      },
      "source": [
        "Instantiate a `PolyFitMethod` object. Assign the object to variable `polyfit_method`."
      ]
    },
    {
      "cell_type": "code",
      "execution_count": 87,
      "metadata": {
        "id": "rbPPU29gsiW7"
      },
      "outputs": [],
      "source": [
        "# Write your code here\n",
        "polyfit_method = PolyFitMethod()"
      ]
    },
    {
      "cell_type": "markdown",
      "metadata": {
        "id": "srHvZjyQsiW7"
      },
      "source": [
        "### Step 1: Compute for the weights via `np.polyfit`.\n",
        "\n",
        "Open `linear_regression.py` file and complete the `compute_weights()` function in the `PolyFitMethod` class. This function computes the weights using the `np.polyfit()` function.\n",
        "\n",
        "This function has 2 parameters - `X` and `y`, where `X` is an `np.ndarray` of shape (N,) containing the training data and `y` is an `np.ndarray` of shape (N,) containing the ground truth values."
      ]
    },
    {
      "cell_type": "markdown",
      "metadata": {
        "id": "jcn67dHEsiW7"
      },
      "source": [
        "Implement the `compute_weights()` function in the `PolyFitMethod` class. Inline comments should help you in completing the contents of the function."
      ]
    },
    {
      "cell_type": "markdown",
      "metadata": {
        "id": "7icn0mZasiW7"
      },
      "source": [
        "The function `compute_weights()` requires a 1D vector for `X`, and our current `X` has a shape of (128, 1). The function `np.squeeze()` removes this 'unneccesary axis'."
      ]
    },
    {
      "cell_type": "code",
      "execution_count": 88,
      "metadata": {
        "id": "FbijeFCgsiW8"
      },
      "outputs": [],
      "source": [
        "polyfit_X_kansas = np.squeeze(X_kansas)"
      ]
    },
    {
      "cell_type": "markdown",
      "metadata": {
        "id": "WG7RhCuPsiW8"
      },
      "source": [
        "Compute the weights by calling the function `compute_weights()` and assign the return value to variable `W`."
      ]
    },
    {
      "cell_type": "code",
      "execution_count": 89,
      "metadata": {
        "id": "KxWcnmIpsiW8"
      },
      "outputs": [],
      "source": [
        "# Write your code here\n",
        "W = polyfit_method.compute_weights(polyfit_X_kansas, y_kansas)"
      ]
    },
    {
      "cell_type": "markdown",
      "metadata": {
        "id": "Z8FdfRbPsiW8"
      },
      "source": [
        "Display weights."
      ]
    },
    {
      "cell_type": "code",
      "execution_count": 90,
      "metadata": {
        "colab": {
          "base_uri": "https://localhost:8080/"
        },
        "id": "dZ86OYLxsiW8",
        "outputId": "005701b5-024b-44c3-8060-50b30c14262f"
      },
      "outputs": [
        {
          "output_type": "stream",
          "name": "stdout",
          "text": [
            "70.23 -10091.13\n"
          ]
        }
      ],
      "source": [
        "print('{:.2f}'.format(float(W[0])), '{:.2f}'.format(float(W[1])))"
      ]
    },
    {
      "cell_type": "markdown",
      "metadata": {
        "id": "d8F0E2B6siW8"
      },
      "source": [
        "**Checkpoint:** You should get the same weights as when we used the analytical method."
      ]
    },
    {
      "cell_type": "markdown",
      "metadata": {
        "id": "0KHUhB8ssiW8"
      },
      "source": [
        "### Step 2: Test! Predict test data with the computed weights\n",
        "\n",
        "Open `linear_regression.py` file and complete the `predict()` function in the `PolyFitMethod` class. This function predicts values for the test data."
      ]
    },
    {
      "cell_type": "markdown",
      "metadata": {
        "id": "50UjXolpsiW9"
      },
      "source": [
        "Implement the `predict()` function in the `PolyFitMethod` class. Inline comments should help you in completing the contents of the function."
      ]
    },
    {
      "cell_type": "markdown",
      "metadata": {
        "id": "14qWva9tsiW9"
      },
      "source": [
        "Get the predicted `y` values given for the living area listed in the array `new_x` using both the `AnalyticalMethod` class and the `PolyFitMethod` class. Assign the return value of the `AnalyticalMethod` to variable `y_pred_analytical`, while assign the return value of the `PolyFitMethod` to the variable `y_pred_polyfit`."
      ]
    },
    {
      "cell_type": "code",
      "execution_count": 96,
      "metadata": {
        "id": "BOm6xS5rsiW-"
      },
      "outputs": [],
      "source": [
        "new_x = np.array([1980, 2200, 2050])"
      ]
    },
    {
      "cell_type": "code",
      "execution_count": 97,
      "metadata": {
        "id": "OIXYjazLsiW-"
      },
      "outputs": [],
      "source": [
        "# Write your code here\n",
        "y_kansas_2d = np.expand_dims(y_kansas, 1)\n",
        "W_analytical = analytical_method.compute_weights(X_kansas, y_kansas_2d)\n",
        "y_pred_analytical = analytical_method.predict(new_x.reshape(-1, 1))\n",
        "\n",
        "\n",
        "W_polyfit = polyfit_method.compute_weights(polyfit_X_kansas, y_kansas)\n",
        "y_pred_polyfit = polyfit_method.predict(new_x)"
      ]
    },
    {
      "cell_type": "code",
      "execution_count": 98,
      "metadata": {
        "colab": {
          "base_uri": "https://localhost:8080/"
        },
        "id": "sY9Yxj0SsiW-",
        "outputId": "1b89c08e-e956-4bc9-fa2b-2fcba8b3c3c9"
      },
      "outputs": [
        {
          "output_type": "stream",
          "name": "stdout",
          "text": [
            "Using analytical method:\t [128956.98 144406.77 133872.82]\n",
            "Using PolyFit method:\t\t [[128956.98]\n",
            " [144406.77]\n",
            " [133872.82]]\n"
          ]
        }
      ],
      "source": [
        "print('Using analytical method:\\t', np.around(y_pred_analytical.flatten(), 2))\n",
        "print('Using PolyFit method:\\t\\t', np.around(y_pred_polyfit, 2))"
      ]
    },
    {
      "cell_type": "markdown",
      "metadata": {
        "id": "gub9XjaHsiW-"
      },
      "source": [
        "<span style=\"color:red;\">**Question 1-11**: Using analytical method, what is the predicted price given a living area of 2200? Limit to 2 decimal places.</span>"
      ]
    },
    {
      "cell_type": "markdown",
      "metadata": {
        "id": "UolnSi5TsiW-"
      },
      "source": [
        "<span style=\"color:red;\">**Question 1-12**: What can you say about the predicted prices of the analytical method and the polyfit method?</span>"
      ]
    },
    {
      "cell_type": "markdown",
      "metadata": {
        "id": "0CFxuGtHsiW_"
      },
      "source": [
        "Get the predicted `y` values given the Kansas City dataset and using the `PolyFitMethod` and assign the return value to variable `y_predicted`."
      ]
    },
    {
      "cell_type": "code",
      "execution_count": 99,
      "metadata": {
        "id": "xzNAwBYisiW_"
      },
      "outputs": [],
      "source": [
        "# Write your code here\n",
        "y_predicted = polyfit_method.predict(polyfit_X_kansas)"
      ]
    },
    {
      "cell_type": "code",
      "execution_count": 100,
      "metadata": {
        "colab": {
          "base_uri": "https://localhost:8080/",
          "height": 542
        },
        "id": "j7FQR2ujsiW_",
        "outputId": "d6ff8370-290b-4896-e5f8-36a134b5da66"
      },
      "outputs": [
        {
          "output_type": "display_data",
          "data": {
            "text/plain": [
              "<Figure size 600x600 with 1 Axes>"
            ],
            "image/png": "[encoded data removed]"
          },
          "metadata": {}
        }
      ],
      "source": [
        "fig, ax2 = plt.subplots()\n",
        "ax2.plot(X_kansas, y_kansas, 'ro', label='Original data')\n",
        "\n",
        "line2, = ax2.plot(X_kansas, y_predicted, label='Regression line')\n",
        "\n",
        "plt.ylabel('Price')\n",
        "plt.xlabel('Living area')\n",
        "ax2.legend()\n",
        "plt.grid()\n",
        "plt.show()"
      ]
    },
    {
      "cell_type": "markdown",
      "metadata": {
        "id": "xCh1w4smsiW_"
      },
      "source": [
        "## Linear Regression on the Kansas City Dataset using Gradient Descent\n",
        "Next, let's implement the iterative solution to linear regression using gradient descent.\n",
        "\n",
        "For this, we will use sklearn's implementation.\n",
        "\n",
        "sklearn already has an implementation for the approximate/iterative solution for finding the parameters/weights that minimizes the loss function. It does the following automatically:\n",
        "\n",
        "1. Initialize the parameters/weight vector.\n",
        "\n",
        "2. Calculate the cost/loss/objective function for current parameters/weights.\n",
        "\n",
        "3. Compute for the gradients of the loss function with respect to the parameters/weights.\n",
        "\n",
        "4. Implement gradient descent to update the paramters/weights."
      ]
    },
    {
      "cell_type": "markdown",
      "metadata": {
        "id": "mZB3qgkesiW_"
      },
      "source": [
        "Import the `SGDRegressor` class."
      ]
    },
    {
      "cell_type": "code",
      "execution_count": 101,
      "metadata": {
        "id": "OVW6jFJYsiW_"
      },
      "outputs": [],
      "source": [
        "from sklearn.linear_model import SGDRegressor"
      ]
    },
    {
      "cell_type": "markdown",
      "metadata": {
        "id": "YtScF-dhsiW_"
      },
      "source": [
        "Instantiate an `SGDRegressor` object. Set the following hyperparameters:\n",
        "- Initial learning rate: 1-e9\n",
        "- Maximum iterations: 200\n",
        "- Penalty: None\n",
        "- Learning rate: 'constant'\n",
        "- Random state: 1\n",
        "- Verbose: 1\n",
        "\n",
        "See the documentation [here](https://scikit-learn.org/stable/modules/generated/sklearn.linear_model.SGDRegressor.html#sklearn-linear-model-sgdregressor)."
      ]
    },
    {
      "cell_type": "code",
      "execution_count": 102,
      "metadata": {
        "id": "iFVaKiTbsiXA"
      },
      "outputs": [],
      "source": [
        "# Write your code here\n",
        "sgd_regressor = SGDRegressor(\n",
        "    eta0=1e-9,\n",
        "    max_iter=200,\n",
        "    penalty=None,\n",
        "    learning_rate='constant',\n",
        "    random_state=1,\n",
        "    verbose=1\n",
        ")"
      ]
    },
    {
      "cell_type": "markdown",
      "metadata": {
        "id": "gFLXoQTksiXA"
      },
      "source": [
        "Call the `partial_fit()` function of the model to train it for 1 epoch."
      ]
    },
    {
      "cell_type": "code",
      "execution_count": 104,
      "metadata": {
        "colab": {
          "base_uri": "https://localhost:8080/",
          "height": 150
        },
        "id": "jNQG14fZsiXA",
        "outputId": "742509e2-71a4-426e-b93c-88d64aaad70c"
      },
      "outputs": [
        {
          "output_type": "stream",
          "name": "stdout",
          "text": [
            "-- Epoch 1\n",
            "Norm: 26.30, NNZs: 1, Bias: 0.012959, T: 128, Avg. loss: 5645644646.191728\n",
            "Total training time: 0.00 seconds.\n"
          ]
        },
        {
          "output_type": "execute_result",
          "data": {
            "text/plain": [
              "SGDRegressor(eta0=1e-09, learning_rate='constant', max_iter=200, penalty=None,\n",
              "             random_state=1, verbose=1)"
            ],
            "text/html": [
              "<style>#sk-container-id-1 {\n",
              "  /* Definition of color scheme common for light and dark mode */\n",
              "  --sklearn-color-text: #000;\n",
              "  --sklearn-color-text-muted: #666;\n",
              "  --sklearn-color-line: gray;\n",
              "  /* Definition of color scheme for unfitted estimators */\n",
              "  --sklearn-color-unfitted-level-0: #fff5e6;\n",
              "  --sklearn-color-unfitted-level-1: #f6e4d2;\n",
              "  --sklearn-color-unfitted-level-2: #ffe0b3;\n",
              "  --sklearn-color-unfitted-level-3: chocolate;\n",
              "  /* Definition of color scheme for fitted estimators */\n",
              "  --sklearn-color-fitted-level-0: #f0f8ff;\n",
              "  --sklearn-color-fitted-level-1: #d4ebff;\n",
              "  --sklearn-color-fitted-level-2: #b3dbfd;\n",
              "  --sklearn-color-fitted-level-3: cornflowerblue;\n",
              "\n",
              "  /* Specific color for light theme */\n",
              "  --sklearn-color-text-on-default-background: var(--sg-text-color, var(--theme-code-foreground, var(--jp-content-font-color1, black)));\n",
              "  --sklearn-color-background: var(--sg-background-color, var(--theme-background, var(--jp-layout-color0, white)));\n",
              "  --sklearn-color-border-box: var(--sg-text-color, var(--theme-code-foreground, var(--jp-content-font-color1, black)));\n",
              "  --sklearn-color-icon: #696969;\n",
              "\n",
              "  @media (prefers-color-scheme: dark) {\n",
              "    /* Redefinition of color scheme for dark theme */\n",
              "    --sklearn-color-text-on-default-background: var(--sg-text-color, var(--theme-code-foreground, var(--jp-content-font-color1, white)));\n",
              "    --sklearn-color-background: var(--sg-background-color, var(--theme-background, var(--jp-layout-color0, #111)));\n",
              "    --sklearn-color-border-box: var(--sg-text-color, var(--theme-code-foreground, var(--jp-content-font-color1, white)));\n",
              "    --sklearn-color-icon: #878787;\n",
              "  }\n",
              "}\n",
              "\n",
              "#sk-container-id-1 {\n",
              "  color: var(--sklearn-color-text);\n",
              "}\n",
              "\n",
              "#sk-container-id-1 pre {\n",
              "  padding: 0;\n",
              "}\n",
              "\n",
              "#sk-container-id-1 input.sk-hidden--visually {\n",
              "  border: 0;\n",
              "  clip: rect(1px 1px 1px 1px);\n",
              "  clip: rect(1px, 1px, 1px, 1px);\n",
              "  height: 1px;\n",
              "  margin: -1px;\n",
              "  overflow: hidden;\n",
              "  padding: 0;\n",
              "  position: absolute;\n",
              "  width: 1px;\n",
              "}\n",
              "\n",
              "#sk-container-id-1 div.sk-dashed-wrapped {\n",
              "  border: 1px dashed var(--sklearn-color-line);\n",
              "  margin: 0 0.4em 0.5em 0.4em;\n",
              "  box-sizing: border-box;\n",
              "  padding-bottom: 0.4em;\n",
              "  background-color: var(--sklearn-color-background);\n",
              "}\n",
              "\n",
              "#sk-container-id-1 div.sk-container {\n",
              "  /* jupyter's `normalize.less` sets `[hidden] { display: none; }`\n",
              "     but bootstrap.min.css set `[hidden] { display: none !important; }`\n",
              "     so we also need the `!important` here to be able to override the\n",
              "     default hidden behavior on the sphinx rendered scikit-learn.org.\n",
              "     See: https://github.com/scikit-learn/scikit-learn/issues/21755 */\n",
              "  display: inline-block !important;\n",
              "  position: relative;\n",
              "}\n",
              "\n",
              "#sk-container-id-1 div.sk-text-repr-fallback {\n",
              "  display: none;\n",
              "}\n",
              "\n",
              "div.sk-parallel-item,\n",
              "div.sk-serial,\n",
              "div.sk-item {\n",
              "  /* draw centered vertical line to link estimators */\n",
              "  background-image: linear-gradient(var(--sklearn-color-text-on-default-background), var(--sklearn-color-text-on-default-background));\n",
              "  background-size: 2px 100%;\n",
              "  background-repeat: no-repeat;\n",
              "  background-position: center center;\n",
              "}\n",
              "\n",
              "/* Parallel-specific style estimator block */\n",
              "\n",
              "#sk-container-id-1 div.sk-parallel-item::after {\n",
              "  content: \"\";\n",
              "  width: 100%;\n",
              "  border-bottom: 2px solid var(--sklearn-color-text-on-default-background);\n",
              "  flex-grow: 1;\n",
              "}\n",
              "\n",
              "#sk-container-id-1 div.sk-parallel {\n",
              "  display: flex;\n",
              "  align-items: stretch;\n",
              "  justify-content: center;\n",
              "  background-color: var(--sklearn-color-background);\n",
              "  position: relative;\n",
              "}\n",
              "\n",
              "#sk-container-id-1 div.sk-parallel-item {\n",
              "  display: flex;\n",
              "  flex-direction: column;\n",
              "}\n",
              "\n",
              "#sk-container-id-1 div.sk-parallel-item:first-child::after {\n",
              "  align-self: flex-end;\n",
              "  width: 50%;\n",
              "}\n",
              "\n",
              "#sk-container-id-1 div.sk-parallel-item:last-child::after {\n",
              "  align-self: flex-start;\n",
              "  width: 50%;\n",
              "}\n",
              "\n",
              "#sk-container-id-1 div.sk-parallel-item:only-child::after {\n",
              "  width: 0;\n",
              "}\n",
              "\n",
              "/* Serial-specific style estimator block */\n",
              "\n",
              "#sk-container-id-1 div.sk-serial {\n",
              "  display: flex;\n",
              "  flex-direction: column;\n",
              "  align-items: center;\n",
              "  background-color: var(--sklearn-color-background);\n",
              "  padding-right: 1em;\n",
              "  padding-left: 1em;\n",
              "}\n",
              "\n",
              "\n",
              "/* Toggleable style: style used for estimator/Pipeline/ColumnTransformer box that is\n",
              "clickable and can be expanded/collapsed.\n",
              "- Pipeline and ColumnTransformer use this feature and define the default style\n",
              "- Estimators will overwrite some part of the style using the `sk-estimator` class\n",
              "*/\n",
              "\n",
              "/* Pipeline and ColumnTransformer style (default) */\n",
              "\n",
              "#sk-container-id-1 div.sk-toggleable {\n",
              "  /* Default theme specific background. It is overwritten whether we have a\n",
              "  specific estimator or a Pipeline/ColumnTransformer */\n",
              "  background-color: var(--sklearn-color-background);\n",
              "}\n",
              "\n",
              "/* Toggleable label */\n",
              "#sk-container-id-1 label.sk-toggleable__label {\n",
              "  cursor: pointer;\n",
              "  display: flex;\n",
              "  width: 100%;\n",
              "  margin-bottom: 0;\n",
              "  padding: 0.5em;\n",
              "  box-sizing: border-box;\n",
              "  text-align: center;\n",
              "  align-items: start;\n",
              "  justify-content: space-between;\n",
              "  gap: 0.5em;\n",
              "}\n",
              "\n",
              "#sk-container-id-1 label.sk-toggleable__label .caption {\n",
              "  font-size: 0.6rem;\n",
              "  font-weight: lighter;\n",
              "  color: var(--sklearn-color-text-muted);\n",
              "}\n",
              "\n",
              "#sk-container-id-1 label.sk-toggleable__label-arrow:before {\n",
              "  /* Arrow on the left of the label */\n",
              "  content: \"▸\";\n",
              "  float: left;\n",
              "  margin-right: 0.25em;\n",
              "  color: var(--sklearn-color-icon);\n",
              "}\n",
              "\n",
              "#sk-container-id-1 label.sk-toggleable__label-arrow:hover:before {\n",
              "  color: var(--sklearn-color-text);\n",
              "}\n",
              "\n",
              "/* Toggleable content - dropdown */\n",
              "\n",
              "#sk-container-id-1 div.sk-toggleable__content {\n",
              "  max-height: 0;\n",
              "  max-width: 0;\n",
              "  overflow: hidden;\n",
              "  text-align: left;\n",
              "  /* unfitted */\n",
              "  background-color: var(--sklearn-color-unfitted-level-0);\n",
              "}\n",
              "\n",
              "#sk-container-id-1 div.sk-toggleable__content.fitted {\n",
              "  /* fitted */\n",
              "  background-color: var(--sklearn-color-fitted-level-0);\n",
              "}\n",
              "\n",
              "#sk-container-id-1 div.sk-toggleable__content pre {\n",
              "  margin: 0.2em;\n",
              "  border-radius: 0.25em;\n",
              "  color: var(--sklearn-color-text);\n",
              "  /* unfitted */\n",
              "  background-color: var(--sklearn-color-unfitted-level-0);\n",
              "}\n",
              "\n",
              "#sk-container-id-1 div.sk-toggleable__content.fitted pre {\n",
              "  /* unfitted */\n",
              "  background-color: var(--sklearn-color-fitted-level-0);\n",
              "}\n",
              "\n",
              "#sk-container-id-1 input.sk-toggleable__control:checked~div.sk-toggleable__content {\n",
              "  /* Expand drop-down */\n",
              "  max-height: 200px;\n",
              "  max-width: 100%;\n",
              "  overflow: auto;\n",
              "}\n",
              "\n",
              "#sk-container-id-1 input.sk-toggleable__control:checked~label.sk-toggleable__label-arrow:before {\n",
              "  content: \"▾\";\n",
              "}\n",
              "\n",
              "/* Pipeline/ColumnTransformer-specific style */\n",
              "\n",
              "#sk-container-id-1 div.sk-label input.sk-toggleable__control:checked~label.sk-toggleable__label {\n",
              "  color: var(--sklearn-color-text);\n",
              "  background-color: var(--sklearn-color-unfitted-level-2);\n",
              "}\n",
              "\n",
              "#sk-container-id-1 div.sk-label.fitted input.sk-toggleable__control:checked~label.sk-toggleable__label {\n",
              "  background-color: var(--sklearn-color-fitted-level-2);\n",
              "}\n",
              "\n",
              "/* Estimator-specific style */\n",
              "\n",
              "/* Colorize estimator box */\n",
              "#sk-container-id-1 div.sk-estimator input.sk-toggleable__control:checked~label.sk-toggleable__label {\n",
              "  /* unfitted */\n",
              "  background-color: var(--sklearn-color-unfitted-level-2);\n",
              "}\n",
              "\n",
              "#sk-container-id-1 div.sk-estimator.fitted input.sk-toggleable__control:checked~label.sk-toggleable__label {\n",
              "  /* fitted */\n",
              "  background-color: var(--sklearn-color-fitted-level-2);\n",
              "}\n",
              "\n",
              "#sk-container-id-1 div.sk-label label.sk-toggleable__label,\n",
              "#sk-container-id-1 div.sk-label label {\n",
              "  /* The background is the default theme color */\n",
              "  color: var(--sklearn-color-text-on-default-background);\n",
              "}\n",
              "\n",
              "/* On hover, darken the color of the background */\n",
              "#sk-container-id-1 div.sk-label:hover label.sk-toggleable__label {\n",
              "  color: var(--sklearn-color-text);\n",
              "  background-color: var(--sklearn-color-unfitted-level-2);\n",
              "}\n",
              "\n",
              "/* Label box, darken color on hover, fitted */\n",
              "#sk-container-id-1 div.sk-label.fitted:hover label.sk-toggleable__label.fitted {\n",
              "  color: var(--sklearn-color-text);\n",
              "  background-color: var(--sklearn-color-fitted-level-2);\n",
              "}\n",
              "\n",
              "/* Estimator label */\n",
              "\n",
              "#sk-container-id-1 div.sk-label label {\n",
              "  font-family: monospace;\n",
              "  font-weight: bold;\n",
              "  display: inline-block;\n",
              "  line-height: 1.2em;\n",
              "}\n",
              "\n",
              "#sk-container-id-1 div.sk-label-container {\n",
              "  text-align: center;\n",
              "}\n",
              "\n",
              "/* Estimator-specific */\n",
              "#sk-container-id-1 div.sk-estimator {\n",
              "  font-family: monospace;\n",
              "  border: 1px dotted var(--sklearn-color-border-box);\n",
              "  border-radius: 0.25em;\n",
              "  box-sizing: border-box;\n",
              "  margin-bottom: 0.5em;\n",
              "  /* unfitted */\n",
              "  background-color: var(--sklearn-color-unfitted-level-0);\n",
              "}\n",
              "\n",
              "#sk-container-id-1 div.sk-estimator.fitted {\n",
              "  /* fitted */\n",
              "  background-color: var(--sklearn-color-fitted-level-0);\n",
              "}\n",
              "\n",
              "/* on hover */\n",
              "#sk-container-id-1 div.sk-estimator:hover {\n",
              "  /* unfitted */\n",
              "  background-color: var(--sklearn-color-unfitted-level-2);\n",
              "}\n",
              "\n",
              "#sk-container-id-1 div.sk-estimator.fitted:hover {\n",
              "  /* fitted */\n",
              "  background-color: var(--sklearn-color-fitted-level-2);\n",
              "}\n",
              "\n",
              "/* Specification for estimator info (e.g. \"i\" and \"?\") */\n",
              "\n",
              "/* Common style for \"i\" and \"?\" */\n",
              "\n",
              ".sk-estimator-doc-link,\n",
              "a:link.sk-estimator-doc-link,\n",
              "a:visited.sk-estimator-doc-link {\n",
              "  float: right;\n",
              "  font-size: smaller;\n",
              "  line-height: 1em;\n",
              "  font-family: monospace;\n",
              "  background-color: var(--sklearn-color-background);\n",
              "  border-radius: 1em;\n",
              "  height: 1em;\n",
              "  width: 1em;\n",
              "  text-decoration: none !important;\n",
              "  margin-left: 0.5em;\n",
              "  text-align: center;\n",
              "  /* unfitted */\n",
              "  border: var(--sklearn-color-unfitted-level-1) 1pt solid;\n",
              "  color: var(--sklearn-color-unfitted-level-1);\n",
              "}\n",
              "\n",
              ".sk-estimator-doc-link.fitted,\n",
              "a:link.sk-estimator-doc-link.fitted,\n",
              "a:visited.sk-estimator-doc-link.fitted {\n",
              "  /* fitted */\n",
              "  border: var(--sklearn-color-fitted-level-1) 1pt solid;\n",
              "  color: var(--sklearn-color-fitted-level-1);\n",
              "}\n",
              "\n",
              "/* On hover */\n",
              "div.sk-estimator:hover .sk-estimator-doc-link:hover,\n",
              ".sk-estimator-doc-link:hover,\n",
              "div.sk-label-container:hover .sk-estimator-doc-link:hover,\n",
              ".sk-estimator-doc-link:hover {\n",
              "  /* unfitted */\n",
              "  background-color: var(--sklearn-color-unfitted-level-3);\n",
              "  color: var(--sklearn-color-background);\n",
              "  text-decoration: none;\n",
              "}\n",
              "\n",
              "div.sk-estimator.fitted:hover .sk-estimator-doc-link.fitted:hover,\n",
              ".sk-estimator-doc-link.fitted:hover,\n",
              "div.sk-label-container:hover .sk-estimator-doc-link.fitted:hover,\n",
              ".sk-estimator-doc-link.fitted:hover {\n",
              "  /* fitted */\n",
              "  background-color: var(--sklearn-color-fitted-level-3);\n",
              "  color: var(--sklearn-color-background);\n",
              "  text-decoration: none;\n",
              "}\n",
              "\n",
              "/* Span, style for the box shown on hovering the info icon */\n",
              ".sk-estimator-doc-link span {\n",
              "  display: none;\n",
              "  z-index: 9999;\n",
              "  position: relative;\n",
              "  font-weight: normal;\n",
              "  right: .2ex;\n",
              "  padding: .5ex;\n",
              "  margin: .5ex;\n",
              "  width: min-content;\n",
              "  min-width: 20ex;\n",
              "  max-width: 50ex;\n",
              "  color: var(--sklearn-color-text);\n",
              "  box-shadow: 2pt 2pt 4pt #999;\n",
              "  /* unfitted */\n",
              "  background: var(--sklearn-color-unfitted-level-0);\n",
              "  border: .5pt solid var(--sklearn-color-unfitted-level-3);\n",
              "}\n",
              "\n",
              ".sk-estimator-doc-link.fitted span {\n",
              "  /* fitted */\n",
              "  background: var(--sklearn-color-fitted-level-0);\n",
              "  border: var(--sklearn-color-fitted-level-3);\n",
              "}\n",
              "\n",
              ".sk-estimator-doc-link:hover span {\n",
              "  display: block;\n",
              "}\n",
              "\n",
              "/* \"?\"-specific style due to the `<a>` HTML tag */\n",
              "\n",
              "#sk-container-id-1 a.estimator_doc_link {\n",
              "  float: right;\n",
              "  font-size: 1rem;\n",
              "  line-height: 1em;\n",
              "  font-family: monospace;\n",
              "  background-color: var(--sklearn-color-background);\n",
              "  border-radius: 1rem;\n",
              "  height: 1rem;\n",
              "  width: 1rem;\n",
              "  text-decoration: none;\n",
              "  /* unfitted */\n",
              "  color: var(--sklearn-color-unfitted-level-1);\n",
              "  border: var(--sklearn-color-unfitted-level-1) 1pt solid;\n",
              "}\n",
              "\n",
              "#sk-container-id-1 a.estimator_doc_link.fitted {\n",
              "  /* fitted */\n",
              "  border: var(--sklearn-color-fitted-level-1) 1pt solid;\n",
              "  color: var(--sklearn-color-fitted-level-1);\n",
              "}\n",
              "\n",
              "/* On hover */\n",
              "#sk-container-id-1 a.estimator_doc_link:hover {\n",
              "  /* unfitted */\n",
              "  background-color: var(--sklearn-color-unfitted-level-3);\n",
              "  color: var(--sklearn-color-background);\n",
              "  text-decoration: none;\n",
              "}\n",
              "\n",
              "#sk-container-id-1 a.estimator_doc_link.fitted:hover {\n",
              "  /* fitted */\n",
              "  background-color: var(--sklearn-color-fitted-level-3);\n",
              "}\n",
              "</style><div id=\"sk-container-id-1\" class=\"sk-top-container\"><div class=\"sk-text-repr-fallback\"><pre>SGDRegressor(eta0=1e-09, learning_rate=&#x27;constant&#x27;, max_iter=200, penalty=None,\n",
              "             random_state=1, verbose=1)</pre><b>In a Jupyter environment, please rerun this cell to show the HTML representation or trust the notebook. <br />On GitHub, the HTML representation is unable to render, please try loading this page with nbviewer.org.</b></div><div class=\"sk-container\" hidden><div class=\"sk-item\"><div class=\"sk-estimator fitted sk-toggleable\"><input class=\"sk-toggleable__control sk-hidden--visually\" id=\"sk-estimator-id-1\" type=\"checkbox\" checked><label for=\"sk-estimator-id-1\" class=\"sk-toggleable__label fitted sk-toggleable__label-arrow\"><div><div>SGDRegressor</div></div><div><a class=\"sk-estimator-doc-link fitted\" rel=\"noreferrer\" target=\"_blank\" href=\"https://scikit-learn.org/1.6/modules/generated/sklearn.linear_model.SGDRegressor.html\">?<span>Documentation for SGDRegressor</span></a><span class=\"sk-estimator-doc-link fitted\">i<span>Fitted</span></span></div></label><div class=\"sk-toggleable__content fitted\"><pre>SGDRegressor(eta0=1e-09, learning_rate=&#x27;constant&#x27;, max_iter=200, penalty=None,\n",
              "             random_state=1, verbose=1)</pre></div> </div></div></div></div>"
            ]
          },
          "metadata": {},
          "execution_count": 104
        }
      ],
      "source": [
        "# Write your code here\n",
        "X_kansas_2d = X_kansas.reshape(-1, 1)\n",
        "sgd_regressor.partial_fit(X_kansas_2d, y_kansas)"
      ]
    },
    {
      "cell_type": "markdown",
      "metadata": {
        "id": "CoqIjQ2NsiXA"
      },
      "source": [
        "Get the predicted `y` values given the Kansas City dataset and using the `SGDRegressor` after 1 training epoch and assign the return value to variable `y_predicted`."
      ]
    },
    {
      "cell_type": "code",
      "execution_count": 105,
      "metadata": {
        "id": "7X0JslpAsiXA"
      },
      "outputs": [],
      "source": [
        "# Write your code here\n",
        "y_predicted = sgd_regressor.predict(X_kansas_2d)"
      ]
    },
    {
      "cell_type": "markdown",
      "metadata": {
        "id": "qoxO4E_9siXB"
      },
      "source": [
        "Display the regression line after 1 training epoch."
      ]
    },
    {
      "cell_type": "code",
      "execution_count": 107,
      "metadata": {
        "colab": {
          "base_uri": "https://localhost:8080/",
          "height": 542
        },
        "id": "F7hStggUsiXB",
        "outputId": "11713a0e-cfe7-4b50-f7fc-5368016e21d5"
      },
      "outputs": [
        {
          "output_type": "display_data",
          "data": {
            "text/plain": [
              "<Figure size 600x600 with 1 Axes>"
            ],
            "image/png": "[encoded data removed]"
          },
          "metadata": {}
        }
      ],
      "source": [
        "# Write your code here\n",
        "intercept = sgd_regressor.intercept_\n",
        "coefficient = sgd_regressor.coef_\n",
        "\n",
        "\n",
        "plt.scatter(X_kansas_2d, y_kansas, color='red', label='Original Data')\n",
        "\n",
        "x_values = np.linspace(min(X_kansas_2d), max(X_kansas_2d), 100)\n",
        "y_values = intercept + coefficient * x_values\n",
        "\n",
        "plt.plot(x_values, y_values, color='blue', label='Regression Line')\n",
        "\n",
        "plt.xlabel('Living Area')\n",
        "plt.ylabel('House Price')\n",
        "plt.legend()\n",
        "plt.show()"
      ]
    },
    {
      "cell_type": "markdown",
      "metadata": {
        "id": "sJUUBOYusiXB"
      },
      "source": [
        "<span style=\"color:red;\">**Question 1-13**: Describe the regression line with respect to the original data after 1 training epoch. </span>"
      ]
    },
    {
      "cell_type": "markdown",
      "metadata": {
        "id": "Onpm8406siXB"
      },
      "source": [
        "Finish training the model by calling the `fit()` function of the model."
      ]
    },
    {
      "cell_type": "code",
      "execution_count": 108,
      "metadata": {
        "colab": {
          "base_uri": "https://localhost:8080/",
          "height": 1000
        },
        "id": "NtJL2-rbsiXB",
        "outputId": "34e20041-49a0-48eb-8f1c-163d3c5cec13"
      },
      "outputs": [
        {
          "output_type": "stream",
          "name": "stdout",
          "text": [
            "-- Epoch 1\n",
            "Norm: 26.30, NNZs: 1, Bias: 0.012959, T: 128, Avg. loss: 5645644646.191728\n",
            "Total training time: 0.01 seconds.\n",
            "-- Epoch 2\n",
            "Norm: 42.02, NNZs: 1, Bias: 0.020711, T: 256, Avg. loss: 2171516472.595378\n",
            "Total training time: 0.01 seconds.\n",
            "-- Epoch 3\n",
            "Norm: 51.46, NNZs: 1, Bias: 0.025354, T: 384, Avg. loss: 930507073.946104\n",
            "Total training time: 0.01 seconds.\n",
            "-- Epoch 4\n",
            "Norm: 56.90, NNZs: 1, Bias: 0.028036, T: 512, Avg. loss: 492762623.621682\n",
            "Total training time: 0.01 seconds.\n",
            "-- Epoch 5\n",
            "Norm: 60.32, NNZs: 1, Bias: 0.029717, T: 640, Avg. loss: 336854622.041573\n",
            "Total training time: 0.01 seconds.\n",
            "-- Epoch 6\n",
            "Norm: 62.27, NNZs: 1, Bias: 0.030663, T: 768, Avg. loss: 281088732.254880\n",
            "Total training time: 0.01 seconds.\n",
            "-- Epoch 7\n",
            "Norm: 63.55, NNZs: 1, Bias: 0.031285, T: 896, Avg. loss: 260947418.306435\n",
            "Total training time: 0.01 seconds.\n",
            "-- Epoch 8\n",
            "Norm: 64.26, NNZs: 1, Bias: 0.031619, T: 1024, Avg. loss: 253791381.405200\n",
            "Total training time: 0.01 seconds.\n",
            "-- Epoch 9\n",
            "Norm: 64.66, NNZs: 1, Bias: 0.031804, T: 1152, Avg. loss: 251431846.746378\n",
            "Total training time: 0.01 seconds.\n",
            "-- Epoch 10\n",
            "Norm: 64.92, NNZs: 1, Bias: 0.031919, T: 1280, Avg. loss: 250589338.951470\n",
            "Total training time: 0.01 seconds.\n",
            "-- Epoch 11\n",
            "Norm: 65.05, NNZs: 1, Bias: 0.031970, T: 1408, Avg. loss: 250320964.290546\n",
            "Total training time: 0.01 seconds.\n",
            "-- Epoch 12\n",
            "Norm: 65.15, NNZs: 1, Bias: 0.032005, T: 1536, Avg. loss: 250261112.845802\n",
            "Total training time: 0.01 seconds.\n",
            "-- Epoch 13\n",
            "Norm: 65.24, NNZs: 1, Bias: 0.032034, T: 1664, Avg. loss: 250178901.907104\n",
            "Total training time: 0.01 seconds.\n",
            "-- Epoch 14\n",
            "Norm: 65.20, NNZs: 1, Bias: 0.031997, T: 1792, Avg. loss: 250156990.743229\n",
            "Total training time: 0.01 seconds.\n",
            "-- Epoch 15\n",
            "Norm: 65.25, NNZs: 1, Bias: 0.032011, T: 1920, Avg. loss: 250210973.218964\n",
            "Total training time: 0.01 seconds.\n",
            "-- Epoch 16\n",
            "Norm: 65.23, NNZs: 1, Bias: 0.031986, T: 2048, Avg. loss: 250220600.492028\n",
            "Total training time: 0.01 seconds.\n",
            "-- Epoch 17\n",
            "Norm: 65.36, NNZs: 1, Bias: 0.032037, T: 2176, Avg. loss: 249936274.641606\n",
            "Total training time: 0.01 seconds.\n",
            "-- Epoch 18\n",
            "Norm: 65.25, NNZs: 1, Bias: 0.031967, T: 2304, Avg. loss: 250185358.982789\n",
            "Total training time: 0.01 seconds.\n",
            "-- Epoch 19\n",
            "Norm: 65.12, NNZs: 1, Bias: 0.031890, T: 2432, Avg. loss: 250004790.619473\n",
            "Total training time: 0.01 seconds.\n",
            "-- Epoch 20\n",
            "Norm: 65.11, NNZs: 1, Bias: 0.031871, T: 2560, Avg. loss: 250224483.172832\n",
            "Total training time: 0.01 seconds.\n",
            "-- Epoch 21\n",
            "Norm: 65.12, NNZs: 1, Bias: 0.031860, T: 2688, Avg. loss: 250189414.154594\n",
            "Total training time: 0.01 seconds.\n",
            "-- Epoch 22\n",
            "Norm: 65.16, NNZs: 1, Bias: 0.031865, T: 2816, Avg. loss: 250200887.898859\n",
            "Total training time: 0.01 seconds.\n",
            "Convergence after 22 epochs took 0.01 seconds\n"
          ]
        },
        {
          "output_type": "execute_result",
          "data": {
            "text/plain": [
              "SGDRegressor(eta0=1e-09, learning_rate='constant', max_iter=200, penalty=None,\n",
              "             random_state=1, verbose=1)"
            ],
            "text/html": [
              "<style>#sk-container-id-2 {\n",
              "  /* Definition of color scheme common for light and dark mode */\n",
              "  --sklearn-color-text: #000;\n",
              "  --sklearn-color-text-muted: #666;\n",
              "  --sklearn-color-line: gray;\n",
              "  /* Definition of color scheme for unfitted estimators */\n",
              "  --sklearn-color-unfitted-level-0: #fff5e6;\n",
              "  --sklearn-color-unfitted-level-1: #f6e4d2;\n",
              "  --sklearn-color-unfitted-level-2: #ffe0b3;\n",
              "  --sklearn-color-unfitted-level-3: chocolate;\n",
              "  /* Definition of color scheme for fitted estimators */\n",
              "  --sklearn-color-fitted-level-0: #f0f8ff;\n",
              "  --sklearn-color-fitted-level-1: #d4ebff;\n",
              "  --sklearn-color-fitted-level-2: #b3dbfd;\n",
              "  --sklearn-color-fitted-level-3: cornflowerblue;\n",
              "\n",
              "  /* Specific color for light theme */\n",
              "  --sklearn-color-text-on-default-background: var(--sg-text-color, var(--theme-code-foreground, var(--jp-content-font-color1, black)));\n",
              "  --sklearn-color-background: var(--sg-background-color, var(--theme-background, var(--jp-layout-color0, white)));\n",
              "  --sklearn-color-border-box: var(--sg-text-color, var(--theme-code-foreground, var(--jp-content-font-color1, black)));\n",
              "  --sklearn-color-icon: #696969;\n",
              "\n",
              "  @media (prefers-color-scheme: dark) {\n",
              "    /* Redefinition of color scheme for dark theme */\n",
              "    --sklearn-color-text-on-default-background: var(--sg-text-color, var(--theme-code-foreground, var(--jp-content-font-color1, white)));\n",
              "    --sklearn-color-background: var(--sg-background-color, var(--theme-background, var(--jp-layout-color0, #111)));\n",
              "    --sklearn-color-border-box: var(--sg-text-color, var(--theme-code-foreground, var(--jp-content-font-color1, white)));\n",
              "    --sklearn-color-icon: #878787;\n",
              "  }\n",
              "}\n",
              "\n",
              "#sk-container-id-2 {\n",
              "  color: var(--sklearn-color-text);\n",
              "}\n",
              "\n",
              "#sk-container-id-2 pre {\n",
              "  padding: 0;\n",
              "}\n",
              "\n",
              "#sk-container-id-2 input.sk-hidden--visually {\n",
              "  border: 0;\n",
              "  clip: rect(1px 1px 1px 1px);\n",
              "  clip: rect(1px, 1px, 1px, 1px);\n",
              "  height: 1px;\n",
              "  margin: -1px;\n",
              "  overflow: hidden;\n",
              "  padding: 0;\n",
              "  position: absolute;\n",
              "  width: 1px;\n",
              "}\n",
              "\n",
              "#sk-container-id-2 div.sk-dashed-wrapped {\n",
              "  border: 1px dashed var(--sklearn-color-line);\n",
              "  margin: 0 0.4em 0.5em 0.4em;\n",
              "  box-sizing: border-box;\n",
              "  padding-bottom: 0.4em;\n",
              "  background-color: var(--sklearn-color-background);\n",
              "}\n",
              "\n",
              "#sk-container-id-2 div.sk-container {\n",
              "  /* jupyter's `normalize.less` sets `[hidden] { display: none; }`\n",
              "     but bootstrap.min.css set `[hidden] { display: none !important; }`\n",
              "     so we also need the `!important` here to be able to override the\n",
              "     default hidden behavior on the sphinx rendered scikit-learn.org.\n",
              "     See: https://github.com/scikit-learn/scikit-learn/issues/21755 */\n",
              "  display: inline-block !important;\n",
              "  position: relative;\n",
              "}\n",
              "\n",
              "#sk-container-id-2 div.sk-text-repr-fallback {\n",
              "  display: none;\n",
              "}\n",
              "\n",
              "div.sk-parallel-item,\n",
              "div.sk-serial,\n",
              "div.sk-item {\n",
              "  /* draw centered vertical line to link estimators */\n",
              "  background-image: linear-gradient(var(--sklearn-color-text-on-default-background), var(--sklearn-color-text-on-default-background));\n",
              "  background-size: 2px 100%;\n",
              "  background-repeat: no-repeat;\n",
              "  background-position: center center;\n",
              "}\n",
              "\n",
              "/* Parallel-specific style estimator block */\n",
              "\n",
              "#sk-container-id-2 div.sk-parallel-item::after {\n",
              "  content: \"\";\n",
              "  width: 100%;\n",
              "  border-bottom: 2px solid var(--sklearn-color-text-on-default-background);\n",
              "  flex-grow: 1;\n",
              "}\n",
              "\n",
              "#sk-container-id-2 div.sk-parallel {\n",
              "  display: flex;\n",
              "  align-items: stretch;\n",
              "  justify-content: center;\n",
              "  background-color: var(--sklearn-color-background);\n",
              "  position: relative;\n",
              "}\n",
              "\n",
              "#sk-container-id-2 div.sk-parallel-item {\n",
              "  display: flex;\n",
              "  flex-direction: column;\n",
              "}\n",
              "\n",
              "#sk-container-id-2 div.sk-parallel-item:first-child::after {\n",
              "  align-self: flex-end;\n",
              "  width: 50%;\n",
              "}\n",
              "\n",
              "#sk-container-id-2 div.sk-parallel-item:last-child::after {\n",
              "  align-self: flex-start;\n",
              "  width: 50%;\n",
              "}\n",
              "\n",
              "#sk-container-id-2 div.sk-parallel-item:only-child::after {\n",
              "  width: 0;\n",
              "}\n",
              "\n",
              "/* Serial-specific style estimator block */\n",
              "\n",
              "#sk-container-id-2 div.sk-serial {\n",
              "  display: flex;\n",
              "  flex-direction: column;\n",
              "  align-items: center;\n",
              "  background-color: var(--sklearn-color-background);\n",
              "  padding-right: 1em;\n",
              "  padding-left: 1em;\n",
              "}\n",
              "\n",
              "\n",
              "/* Toggleable style: style used for estimator/Pipeline/ColumnTransformer box that is\n",
              "clickable and can be expanded/collapsed.\n",
              "- Pipeline and ColumnTransformer use this feature and define the default style\n",
              "- Estimators will overwrite some part of the style using the `sk-estimator` class\n",
              "*/\n",
              "\n",
              "/* Pipeline and ColumnTransformer style (default) */\n",
              "\n",
              "#sk-container-id-2 div.sk-toggleable {\n",
              "  /* Default theme specific background. It is overwritten whether we have a\n",
              "  specific estimator or a Pipeline/ColumnTransformer */\n",
              "  background-color: var(--sklearn-color-background);\n",
              "}\n",
              "\n",
              "/* Toggleable label */\n",
              "#sk-container-id-2 label.sk-toggleable__label {\n",
              "  cursor: pointer;\n",
              "  display: flex;\n",
              "  width: 100%;\n",
              "  margin-bottom: 0;\n",
              "  padding: 0.5em;\n",
              "  box-sizing: border-box;\n",
              "  text-align: center;\n",
              "  align-items: start;\n",
              "  justify-content: space-between;\n",
              "  gap: 0.5em;\n",
              "}\n",
              "\n",
              "#sk-container-id-2 label.sk-toggleable__label .caption {\n",
              "  font-size: 0.6rem;\n",
              "  font-weight: lighter;\n",
              "  color: var(--sklearn-color-text-muted);\n",
              "}\n",
              "\n",
              "#sk-container-id-2 label.sk-toggleable__label-arrow:before {\n",
              "  /* Arrow on the left of the label */\n",
              "  content: \"▸\";\n",
              "  float: left;\n",
              "  margin-right: 0.25em;\n",
              "  color: var(--sklearn-color-icon);\n",
              "}\n",
              "\n",
              "#sk-container-id-2 label.sk-toggleable__label-arrow:hover:before {\n",
              "  color: var(--sklearn-color-text);\n",
              "}\n",
              "\n",
              "/* Toggleable content - dropdown */\n",
              "\n",
              "#sk-container-id-2 div.sk-toggleable__content {\n",
              "  max-height: 0;\n",
              "  max-width: 0;\n",
              "  overflow: hidden;\n",
              "  text-align: left;\n",
              "  /* unfitted */\n",
              "  background-color: var(--sklearn-color-unfitted-level-0);\n",
              "}\n",
              "\n",
              "#sk-container-id-2 div.sk-toggleable__content.fitted {\n",
              "  /* fitted */\n",
              "  background-color: var(--sklearn-color-fitted-level-0);\n",
              "}\n",
              "\n",
              "#sk-container-id-2 div.sk-toggleable__content pre {\n",
              "  margin: 0.2em;\n",
              "  border-radius: 0.25em;\n",
              "  color: var(--sklearn-color-text);\n",
              "  /* unfitted */\n",
              "  background-color: var(--sklearn-color-unfitted-level-0);\n",
              "}\n",
              "\n",
              "#sk-container-id-2 div.sk-toggleable__content.fitted pre {\n",
              "  /* unfitted */\n",
              "  background-color: var(--sklearn-color-fitted-level-0);\n",
              "}\n",
              "\n",
              "#sk-container-id-2 input.sk-toggleable__control:checked~div.sk-toggleable__content {\n",
              "  /* Expand drop-down */\n",
              "  max-height: 200px;\n",
              "  max-width: 100%;\n",
              "  overflow: auto;\n",
              "}\n",
              "\n",
              "#sk-container-id-2 input.sk-toggleable__control:checked~label.sk-toggleable__label-arrow:before {\n",
              "  content: \"▾\";\n",
              "}\n",
              "\n",
              "/* Pipeline/ColumnTransformer-specific style */\n",
              "\n",
              "#sk-container-id-2 div.sk-label input.sk-toggleable__control:checked~label.sk-toggleable__label {\n",
              "  color: var(--sklearn-color-text);\n",
              "  background-color: var(--sklearn-color-unfitted-level-2);\n",
              "}\n",
              "\n",
              "#sk-container-id-2 div.sk-label.fitted input.sk-toggleable__control:checked~label.sk-toggleable__label {\n",
              "  background-color: var(--sklearn-color-fitted-level-2);\n",
              "}\n",
              "\n",
              "/* Estimator-specific style */\n",
              "\n",
              "/* Colorize estimator box */\n",
              "#sk-container-id-2 div.sk-estimator input.sk-toggleable__control:checked~label.sk-toggleable__label {\n",
              "  /* unfitted */\n",
              "  background-color: var(--sklearn-color-unfitted-level-2);\n",
              "}\n",
              "\n",
              "#sk-container-id-2 div.sk-estimator.fitted input.sk-toggleable__control:checked~label.sk-toggleable__label {\n",
              "  /* fitted */\n",
              "  background-color: var(--sklearn-color-fitted-level-2);\n",
              "}\n",
              "\n",
              "#sk-container-id-2 div.sk-label label.sk-toggleable__label,\n",
              "#sk-container-id-2 div.sk-label label {\n",
              "  /* The background is the default theme color */\n",
              "  color: var(--sklearn-color-text-on-default-background);\n",
              "}\n",
              "\n",
              "/* On hover, darken the color of the background */\n",
              "#sk-container-id-2 div.sk-label:hover label.sk-toggleable__label {\n",
              "  color: var(--sklearn-color-text);\n",
              "  background-color: var(--sklearn-color-unfitted-level-2);\n",
              "}\n",
              "\n",
              "/* Label box, darken color on hover, fitted */\n",
              "#sk-container-id-2 div.sk-label.fitted:hover label.sk-toggleable__label.fitted {\n",
              "  color: var(--sklearn-color-text);\n",
              "  background-color: var(--sklearn-color-fitted-level-2);\n",
              "}\n",
              "\n",
              "/* Estimator label */\n",
              "\n",
              "#sk-container-id-2 div.sk-label label {\n",
              "  font-family: monospace;\n",
              "  font-weight: bold;\n",
              "  display: inline-block;\n",
              "  line-height: 1.2em;\n",
              "}\n",
              "\n",
              "#sk-container-id-2 div.sk-label-container {\n",
              "  text-align: center;\n",
              "}\n",
              "\n",
              "/* Estimator-specific */\n",
              "#sk-container-id-2 div.sk-estimator {\n",
              "  font-family: monospace;\n",
              "  border: 1px dotted var(--sklearn-color-border-box);\n",
              "  border-radius: 0.25em;\n",
              "  box-sizing: border-box;\n",
              "  margin-bottom: 0.5em;\n",
              "  /* unfitted */\n",
              "  background-color: var(--sklearn-color-unfitted-level-0);\n",
              "}\n",
              "\n",
              "#sk-container-id-2 div.sk-estimator.fitted {\n",
              "  /* fitted */\n",
              "  background-color: var(--sklearn-color-fitted-level-0);\n",
              "}\n",
              "\n",
              "/* on hover */\n",
              "#sk-container-id-2 div.sk-estimator:hover {\n",
              "  /* unfitted */\n",
              "  background-color: var(--sklearn-color-unfitted-level-2);\n",
              "}\n",
              "\n",
              "#sk-container-id-2 div.sk-estimator.fitted:hover {\n",
              "  /* fitted */\n",
              "  background-color: var(--sklearn-color-fitted-level-2);\n",
              "}\n",
              "\n",
              "/* Specification for estimator info (e.g. \"i\" and \"?\") */\n",
              "\n",
              "/* Common style for \"i\" and \"?\" */\n",
              "\n",
              ".sk-estimator-doc-link,\n",
              "a:link.sk-estimator-doc-link,\n",
              "a:visited.sk-estimator-doc-link {\n",
              "  float: right;\n",
              "  font-size: smaller;\n",
              "  line-height: 1em;\n",
              "  font-family: monospace;\n",
              "  background-color: var(--sklearn-color-background);\n",
              "  border-radius: 1em;\n",
              "  height: 1em;\n",
              "  width: 1em;\n",
              "  text-decoration: none !important;\n",
              "  margin-left: 0.5em;\n",
              "  text-align: center;\n",
              "  /* unfitted */\n",
              "  border: var(--sklearn-color-unfitted-level-1) 1pt solid;\n",
              "  color: var(--sklearn-color-unfitted-level-1);\n",
              "}\n",
              "\n",
              ".sk-estimator-doc-link.fitted,\n",
              "a:link.sk-estimator-doc-link.fitted,\n",
              "a:visited.sk-estimator-doc-link.fitted {\n",
              "  /* fitted */\n",
              "  border: var(--sklearn-color-fitted-level-1) 1pt solid;\n",
              "  color: var(--sklearn-color-fitted-level-1);\n",
              "}\n",
              "\n",
              "/* On hover */\n",
              "div.sk-estimator:hover .sk-estimator-doc-link:hover,\n",
              ".sk-estimator-doc-link:hover,\n",
              "div.sk-label-container:hover .sk-estimator-doc-link:hover,\n",
              ".sk-estimator-doc-link:hover {\n",
              "  /* unfitted */\n",
              "  background-color: var(--sklearn-color-unfitted-level-3);\n",
              "  color: var(--sklearn-color-background);\n",
              "  text-decoration: none;\n",
              "}\n",
              "\n",
              "div.sk-estimator.fitted:hover .sk-estimator-doc-link.fitted:hover,\n",
              ".sk-estimator-doc-link.fitted:hover,\n",
              "div.sk-label-container:hover .sk-estimator-doc-link.fitted:hover,\n",
              ".sk-estimator-doc-link.fitted:hover {\n",
              "  /* fitted */\n",
              "  background-color: var(--sklearn-color-fitted-level-3);\n",
              "  color: var(--sklearn-color-background);\n",
              "  text-decoration: none;\n",
              "}\n",
              "\n",
              "/* Span, style for the box shown on hovering the info icon */\n",
              ".sk-estimator-doc-link span {\n",
              "  display: none;\n",
              "  z-index: 9999;\n",
              "  position: relative;\n",
              "  font-weight: normal;\n",
              "  right: .2ex;\n",
              "  padding: .5ex;\n",
              "  margin: .5ex;\n",
              "  width: min-content;\n",
              "  min-width: 20ex;\n",
              "  max-width: 50ex;\n",
              "  color: var(--sklearn-color-text);\n",
              "  box-shadow: 2pt 2pt 4pt #999;\n",
              "  /* unfitted */\n",
              "  background: var(--sklearn-color-unfitted-level-0);\n",
              "  border: .5pt solid var(--sklearn-color-unfitted-level-3);\n",
              "}\n",
              "\n",
              ".sk-estimator-doc-link.fitted span {\n",
              "  /* fitted */\n",
              "  background: var(--sklearn-color-fitted-level-0);\n",
              "  border: var(--sklearn-color-fitted-level-3);\n",
              "}\n",
              "\n",
              ".sk-estimator-doc-link:hover span {\n",
              "  display: block;\n",
              "}\n",
              "\n",
              "/* \"?\"-specific style due to the `<a>` HTML tag */\n",
              "\n",
              "#sk-container-id-2 a.estimator_doc_link {\n",
              "  float: right;\n",
              "  font-size: 1rem;\n",
              "  line-height: 1em;\n",
              "  font-family: monospace;\n",
              "  background-color: var(--sklearn-color-background);\n",
              "  border-radius: 1rem;\n",
              "  height: 1rem;\n",
              "  width: 1rem;\n",
              "  text-decoration: none;\n",
              "  /* unfitted */\n",
              "  color: var(--sklearn-color-unfitted-level-1);\n",
              "  border: var(--sklearn-color-unfitted-level-1) 1pt solid;\n",
              "}\n",
              "\n",
              "#sk-container-id-2 a.estimator_doc_link.fitted {\n",
              "  /* fitted */\n",
              "  border: var(--sklearn-color-fitted-level-1) 1pt solid;\n",
              "  color: var(--sklearn-color-fitted-level-1);\n",
              "}\n",
              "\n",
              "/* On hover */\n",
              "#sk-container-id-2 a.estimator_doc_link:hover {\n",
              "  /* unfitted */\n",
              "  background-color: var(--sklearn-color-unfitted-level-3);\n",
              "  color: var(--sklearn-color-background);\n",
              "  text-decoration: none;\n",
              "}\n",
              "\n",
              "#sk-container-id-2 a.estimator_doc_link.fitted:hover {\n",
              "  /* fitted */\n",
              "  background-color: var(--sklearn-color-fitted-level-3);\n",
              "}\n",
              "</style><div id=\"sk-container-id-2\" class=\"sk-top-container\"><div class=\"sk-text-repr-fallback\"><pre>SGDRegressor(eta0=1e-09, learning_rate=&#x27;constant&#x27;, max_iter=200, penalty=None,\n",
              "             random_state=1, verbose=1)</pre><b>In a Jupyter environment, please rerun this cell to show the HTML representation or trust the notebook. <br />On GitHub, the HTML representation is unable to render, please try loading this page with nbviewer.org.</b></div><div class=\"sk-container\" hidden><div class=\"sk-item\"><div class=\"sk-estimator fitted sk-toggleable\"><input class=\"sk-toggleable__control sk-hidden--visually\" id=\"sk-estimator-id-2\" type=\"checkbox\" checked><label for=\"sk-estimator-id-2\" class=\"sk-toggleable__label fitted sk-toggleable__label-arrow\"><div><div>SGDRegressor</div></div><div><a class=\"sk-estimator-doc-link fitted\" rel=\"noreferrer\" target=\"_blank\" href=\"https://scikit-learn.org/1.6/modules/generated/sklearn.linear_model.SGDRegressor.html\">?<span>Documentation for SGDRegressor</span></a><span class=\"sk-estimator-doc-link fitted\">i<span>Fitted</span></span></div></label><div class=\"sk-toggleable__content fitted\"><pre>SGDRegressor(eta0=1e-09, learning_rate=&#x27;constant&#x27;, max_iter=200, penalty=None,\n",
              "             random_state=1, verbose=1)</pre></div> </div></div></div></div>"
            ]
          },
          "metadata": {},
          "execution_count": 108
        }
      ],
      "source": [
        "# Write your code here\n",
        "sgd_regressor.fit(X_kansas_2d, y_kansas)"
      ]
    },
    {
      "cell_type": "markdown",
      "metadata": {
        "id": "2itkI864siXB"
      },
      "source": [
        "Get the predicted `y` values given the Kansas City dataset and using the `SGDRegressor` after convergence and assign the return value to variable `y_predicted`."
      ]
    },
    {
      "cell_type": "code",
      "execution_count": 109,
      "metadata": {
        "id": "PFmX29MZsiXC"
      },
      "outputs": [],
      "source": [
        "# Write your code here\n",
        "y_predicted = sgd_regressor.predict(X_kansas_2d)"
      ]
    },
    {
      "cell_type": "markdown",
      "metadata": {
        "id": "G4bbUDUvsiXC"
      },
      "source": [
        "Display the regression line after training."
      ]
    },
    {
      "cell_type": "code",
      "execution_count": 115,
      "metadata": {
        "colab": {
          "base_uri": "https://localhost:8080/",
          "height": 542
        },
        "id": "PEi7wyTHsiXD",
        "outputId": "bff3e42d-a3fe-4df3-9fee-a816c724e20e"
      },
      "outputs": [
        {
          "output_type": "display_data",
          "data": {
            "text/plain": [
              "<Figure size 600x600 with 1 Axes>"
            ],
            "image/png": "[encoded data removed]"
          },
          "metadata": {}
        }
      ],
      "source": [
        "# Write your code here\n",
        "intercept = sgd_regressor.intercept_\n",
        "coefficient = sgd_regressor.coef_\n",
        "\n",
        "plt.scatter(X_kansas_2d, y_kansas, color='red', label='Original Data')\n",
        "\n",
        "x_values = np.linspace(min(X_kansas_2d), max(X_kansas_2d), 100)\n",
        "y_values = intercept + coefficient * x_values\n",
        "\n",
        "line3, = plt.plot(x_values, y_values, color='Blue', label='Regression Line')\n",
        "\n",
        "plt.xlabel('Living Area')\n",
        "plt.ylabel('House Price')\n",
        "plt.legend()\n",
        "plt.show()"
      ]
    },
    {
      "cell_type": "markdown",
      "metadata": {
        "id": "Not6InNDsiXD"
      },
      "source": [
        "<span style=\"color:red;\">**Question 1-14:** Describe the regression line with respect to the original data after training.</span>"
      ]
    },
    {
      "cell_type": "markdown",
      "metadata": {
        "id": "QUwHmX4TsiXD"
      },
      "source": [
        "Let's display the graph of regression lines on the Kansas City dataset using analytical method, polyfit method, and gradient descent."
      ]
    },
    {
      "cell_type": "code",
      "execution_count": 116,
      "metadata": {
        "colab": {
          "base_uri": "https://localhost:8080/",
          "height": 476
        },
        "id": "jteGoonysiXD",
        "outputId": "babf70d3-78af-464e-d19b-59d1a0eaf4c8"
      },
      "outputs": [
        {
          "output_type": "display_data",
          "data": {
            "text/plain": [
              "<Figure size 2800x800 with 3 Axes>"
            ],
            "image/png": "[encoded data removed]"
          },
          "metadata": {}
        }
      ],
      "source": [
        "fig, (ax1, ax2, ax3) = plt.subplots(ncols=3, nrows=1, figsize=(28, 8))\n",
        "\n",
        "ax1.plot(X_kansas, y_kansas, 'ro', label='Original data')\n",
        "ax1.plot(line1.get_xdata(), line1.get_ydata(), label='Regression line')\n",
        "ax1.set_title('Using Analytical Method')\n",
        "ax1.set_xlabel('Living area')\n",
        "ax1.set_ylabel('Price')\n",
        "ax1.legend()\n",
        "ax1.grid()\n",
        "\n",
        "ax2.plot(X_kansas, y_kansas, 'ro', label='Original data')\n",
        "ax2.plot(line2.get_xdata(), line2.get_ydata(), label='Regression line')\n",
        "ax2.set_title('Using np.polyfit()')\n",
        "ax2.set_xlabel('Living area')\n",
        "ax2.set_ylabel('Price')\n",
        "ax2.legend()\n",
        "ax2.grid()\n",
        "\n",
        "ax3.plot(X_kansas, y_kansas, 'ro', label='Original data')\n",
        "ax3.plot(line3.get_xdata(), line3.get_ydata(), label='Regression line')\n",
        "ax3.set_title('Using Gradient Descent')\n",
        "ax3.set_xlabel('Living area')\n",
        "ax3.set_ylabel('Price')\n",
        "ax3.legend()\n",
        "ax3.grid()"
      ]
    },
    {
      "cell_type": "markdown",
      "metadata": {
        "id": "XNi4-yc-siXD"
      },
      "source": [
        "<span style=\"color:green;\">**Question**: Compare and describe the graphs of the analytical method, polyfit method, and gradient descent method. Are there differences in some of the graphs?</span>"
      ]
    },
    {
      "cell_type": "markdown",
      "metadata": {
        "id": "UKxPRRo1siXD"
      },
      "source": [
        "Predict the price given a living area using the `predict()` function of the `AnalyticalMethod` class, the `PolyFitMethod` class, and the `SGDRegressor` class."
      ]
    },
    {
      "cell_type": "code",
      "execution_count": 117,
      "metadata": {
        "colab": {
          "base_uri": "https://localhost:8080/"
        },
        "id": "PZ23Z9xSsiXD",
        "outputId": "43bd74dd-a700-4cf6-a90d-2e60ccb0ab88"
      },
      "outputs": [
        {
          "output_type": "stream",
          "name": "stdout",
          "text": [
            "Using Analytical method:\t [207961.59]\n",
            "Using PolyFit method:\t\t [[207961.59]]\n",
            "Using Gradient Descent:\t\t [202324.7]\n"
          ]
        }
      ],
      "source": [
        "new_x = np.array([3105])\n",
        "\n",
        "y_pred_analytical = analytical_method.predict(new_x)\n",
        "y_pred_polyfit = polyfit_method.predict(new_x)\n",
        "y_pred_gd = sgd_regressor.predict(np.expand_dims(new_x, 1))\n",
        "\n",
        "print('Using Analytical method:\\t', np.around(y_pred_analytical.flatten(), 2))\n",
        "print('Using PolyFit method:\\t\\t', np.around(y_pred_polyfit, 2))\n",
        "print('Using Gradient Descent:\\t\\t', np.around(y_pred_gd, 2))"
      ]
    },
    {
      "cell_type": "markdown",
      "metadata": {
        "id": "i7_sCQG_siXD"
      },
      "source": [
        "<span style=\"color:red;\">**Question 1-15**: Why did we get a different predicted price using the gradient descent method?</span>"
      ]
    },
    {
      "cell_type": "markdown",
      "metadata": {
        "id": "tColCUOjsiXE"
      },
      "source": [
        "### Conclusion\n",
        "We successfully implemented a linear regression model on a house pricing dataset. We implemented two ways to train our model: via analytical solution and via mini-batch gradient descent.\n",
        "\n",
        "We also tweaked our learning rate, and you can also continuously change the iteration count as long as you bring it back to the requested answer.\n",
        "\n",
        "Also, remember that we are only using the analytical solution for small datasets. Do not use it on big datasets or it will take too long for your computer to process."
      ]
    },
    {
      "cell_type": "markdown",
      "metadata": {
        "id": "jzSjrUtNsiXH"
      },
      "source": [
        "## <center>fin</center>"
      ]
    },
    {
      "cell_type": "markdown",
      "metadata": {
        "id": "PYn64L4UsiXH"
      },
      "source": [
        "<!-- DO NOT MODIFY OR DELETE THIS -->\n",
        "<sup>made/compiled by daniel stanley tan & courtney anne ngo 🐰 & thomas james tiam-lee</sup> <br>\n",
        "<sup>for comments, corrections, suggestions, please email:</sup><sup> danieltan07@gmail.com & courtneyngo@gmail.com & thomasjamestiamlee@gmail.com</sup><br>\n",
        "<sup>please cc your instructor, too</sup>\n",
        "<!-- DO NOT MODIFY OR DELETE THIS -->"
      ]
    }
  ],
  "metadata": {
    "kernelspec": {
      "display_name": "Python 3 (ipykernel)",
      "language": "python",
      "name": "python3"
    },
    "language_info": {
      "codemirror_mode": {
        "name": "ipython",
        "version": 3
      },
      "file_extension": ".py",
      "mimetype": "text/x-python",
      "name": "python",
      "nbconvert_exporter": "python",
      "pygments_lexer": "ipython3",
      "version": "3.10.6"
    },
    "colab": {
      "provenance": []
    }
  },
  "nbformat": 4,
  "nbformat_minor": 0
}